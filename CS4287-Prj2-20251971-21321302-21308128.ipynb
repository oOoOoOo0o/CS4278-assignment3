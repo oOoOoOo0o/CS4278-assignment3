{
 "nbformat": 4,
 "nbformat_minor": 0,
 "metadata": {
  "colab": {
   "provenance": []
  },
  "kernelspec": {
   "name": "python3",
   "display_name": "Python 3 (ipykernel)",
   "language": "python"
  },
  "language_info": {
   "name": "python"
  }
 },
 "cells": [
  {
   "metadata": {
    "id": "auXryfbhGHUr",
    "ExecuteTime": {
     "end_time": "2024-12-01T13:38:33.462366Z",
     "start_time": "2024-12-01T13:38:31.259080Z"
    }
   },
   "cell_type": "code",
   "source": [
    "from packaging import version\n",
    "import tensorflow as tf\n",
    "import sys\n",
    "assert version.parse(tf.__version__) >= version.parse(\"2.8.0\")"
   ],
   "outputs": [],
   "execution_count": 1
  },
  {
   "metadata": {
    "colab": {
     "base_uri": "https://localhost:8080/"
    },
    "id": "5xW1WKWkGaTo",
    "outputId": "cb0d5268-834f-495c-e677-f8c68eeebc7c",
    "ExecuteTime": {
     "end_time": "2024-12-01T13:38:37.889677Z",
     "start_time": "2024-12-01T13:38:33.510222Z"
    }
   },
   "cell_type": "code",
   "source": [
    "if \"google.colab\" in sys.modules or \"kaggle_secrets\" in sys.modules:\n",
    "    %pip install -q -U gymnasium swig\n",
    "    %pip install gymnasium[atari]==0.29.1\n",
    "    %pip install gymnasium[classic_control,box2d,accept-rom-license,ActionWrapper]==0.29.1\n",
    "else:\n",
    "    !pip install -q -U gymnasium swig\n",
    "    !pip install gymnasium[atari]==0.29.1\n",
    "    !pip install gymnasium[classic_control,box2d,accept-rom-license]==0.29.1"
   ],
   "outputs": [
    {
     "name": "stdout",
     "output_type": "stream",
     "text": [
      "Collecting gymnasium==0.29.1 (from gymnasium[atari]==0.29.1)\n",
      "  Using cached gymnasium-0.29.1-py3-none-any.whl.metadata (10 kB)\n",
      "Requirement already satisfied: numpy>=1.21.0 in c:\\users\\bayan\\miniconda3\\envs\\cs4278-assignment3\\lib\\site-packages (from gymnasium==0.29.1->gymnasium[atari]==0.29.1) (1.24.3)\n",
      "Requirement already satisfied: cloudpickle>=1.2.0 in c:\\users\\bayan\\miniconda3\\envs\\cs4278-assignment3\\lib\\site-packages (from gymnasium==0.29.1->gymnasium[atari]==0.29.1) (3.1.0)\n",
      "Requirement already satisfied: typing-extensions>=4.3.0 in c:\\users\\bayan\\miniconda3\\envs\\cs4278-assignment3\\lib\\site-packages (from gymnasium==0.29.1->gymnasium[atari]==0.29.1) (4.11.0)\n",
      "Requirement already satisfied: farama-notifications>=0.0.1 in c:\\users\\bayan\\miniconda3\\envs\\cs4278-assignment3\\lib\\site-packages (from gymnasium==0.29.1->gymnasium[atari]==0.29.1) (0.0.4)\n",
      "Requirement already satisfied: importlib-metadata>=4.8.0 in c:\\users\\bayan\\miniconda3\\envs\\cs4278-assignment3\\lib\\site-packages (from gymnasium==0.29.1->gymnasium[atari]==0.29.1) (7.0.1)\n",
      "Requirement already satisfied: shimmy<1.0,>=0.1.0 in c:\\users\\bayan\\miniconda3\\envs\\cs4278-assignment3\\lib\\site-packages (from shimmy[atari]<1.0,>=0.1.0; extra == \"atari\"->gymnasium[atari]==0.29.1) (0.2.1)\n",
      "Requirement already satisfied: zipp>=0.5 in c:\\users\\bayan\\miniconda3\\envs\\cs4278-assignment3\\lib\\site-packages (from importlib-metadata>=4.8.0->gymnasium==0.29.1->gymnasium[atari]==0.29.1) (3.20.2)\n",
      "Requirement already satisfied: ale-py~=0.8.1 in c:\\users\\bayan\\miniconda3\\envs\\cs4278-assignment3\\lib\\site-packages (from shimmy[atari]<1.0,>=0.1.0; extra == \"atari\"->gymnasium[atari]==0.29.1) (0.8.1)\n",
      "Requirement already satisfied: importlib-resources in c:\\users\\bayan\\miniconda3\\envs\\cs4278-assignment3\\lib\\site-packages (from ale-py~=0.8.1->shimmy[atari]<1.0,>=0.1.0; extra == \"atari\"->gymnasium[atari]==0.29.1) (6.4.0)\n",
      "Using cached gymnasium-0.29.1-py3-none-any.whl (953 kB)\n",
      "Installing collected packages: gymnasium\n",
      "  Attempting uninstall: gymnasium\n",
      "    Found existing installation: gymnasium 1.0.0\n",
      "    Uninstalling gymnasium-1.0.0:\n",
      "      Successfully uninstalled gymnasium-1.0.0\n",
      "Successfully installed gymnasium-0.29.1\n",
      "Requirement already satisfied: gymnasium==0.29.1 in c:\\users\\bayan\\miniconda3\\envs\\cs4278-assignment3\\lib\\site-packages (from gymnasium[accept-rom-license,box2d,classic_control]==0.29.1) (0.29.1)\n",
      "Requirement already satisfied: numpy>=1.21.0 in c:\\users\\bayan\\miniconda3\\envs\\cs4278-assignment3\\lib\\site-packages (from gymnasium==0.29.1->gymnasium[accept-rom-license,box2d,classic_control]==0.29.1) (1.24.3)\n",
      "Requirement already satisfied: cloudpickle>=1.2.0 in c:\\users\\bayan\\miniconda3\\envs\\cs4278-assignment3\\lib\\site-packages (from gymnasium==0.29.1->gymnasium[accept-rom-license,box2d,classic_control]==0.29.1) (3.1.0)\n",
      "Requirement already satisfied: typing-extensions>=4.3.0 in c:\\users\\bayan\\miniconda3\\envs\\cs4278-assignment3\\lib\\site-packages (from gymnasium==0.29.1->gymnasium[accept-rom-license,box2d,classic_control]==0.29.1) (4.11.0)\n",
      "Requirement already satisfied: farama-notifications>=0.0.1 in c:\\users\\bayan\\miniconda3\\envs\\cs4278-assignment3\\lib\\site-packages (from gymnasium==0.29.1->gymnasium[accept-rom-license,box2d,classic_control]==0.29.1) (0.0.4)\n",
      "Requirement already satisfied: importlib-metadata>=4.8.0 in c:\\users\\bayan\\miniconda3\\envs\\cs4278-assignment3\\lib\\site-packages (from gymnasium==0.29.1->gymnasium[accept-rom-license,box2d,classic_control]==0.29.1) (7.0.1)\n",
      "Requirement already satisfied: pygame>=2.1.3 in c:\\users\\bayan\\miniconda3\\envs\\cs4278-assignment3\\lib\\site-packages (from gymnasium[accept-rom-license,box2d,classic_control]==0.29.1) (2.6.1)\n",
      "Requirement already satisfied: box2d-py==2.3.5 in c:\\users\\bayan\\miniconda3\\envs\\cs4278-assignment3\\lib\\site-packages (from gymnasium[accept-rom-license,box2d,classic_control]==0.29.1) (2.3.5)\n",
      "Requirement already satisfied: swig==4.* in c:\\users\\bayan\\miniconda3\\envs\\cs4278-assignment3\\lib\\site-packages (from gymnasium[accept-rom-license,box2d,classic_control]==0.29.1) (4.3.0)\n",
      "Requirement already satisfied: autorom~=0.4.2 in c:\\users\\bayan\\miniconda3\\envs\\cs4278-assignment3\\lib\\site-packages (from autorom[accept-rom-license]~=0.4.2; extra == \"accept-rom-license\"->gymnasium[accept-rom-license,box2d,classic_control]==0.29.1) (0.4.2)\n",
      "Requirement already satisfied: click in c:\\users\\bayan\\miniconda3\\envs\\cs4278-assignment3\\lib\\site-packages (from autorom~=0.4.2->autorom[accept-rom-license]~=0.4.2; extra == \"accept-rom-license\"->gymnasium[accept-rom-license,box2d,classic_control]==0.29.1) (8.1.7)\n",
      "Requirement already satisfied: requests in c:\\users\\bayan\\miniconda3\\envs\\cs4278-assignment3\\lib\\site-packages (from autorom~=0.4.2->autorom[accept-rom-license]~=0.4.2; extra == \"accept-rom-license\"->gymnasium[accept-rom-license,box2d,classic_control]==0.29.1) (2.32.3)\n",
      "Requirement already satisfied: tqdm in c:\\users\\bayan\\miniconda3\\envs\\cs4278-assignment3\\lib\\site-packages (from autorom~=0.4.2->autorom[accept-rom-license]~=0.4.2; extra == \"accept-rom-license\"->gymnasium[accept-rom-license,box2d,classic_control]==0.29.1) (4.67.1)\n",
      "Requirement already satisfied: importlib-resources in c:\\users\\bayan\\miniconda3\\envs\\cs4278-assignment3\\lib\\site-packages (from autorom~=0.4.2->autorom[accept-rom-license]~=0.4.2; extra == \"accept-rom-license\"->gymnasium[accept-rom-license,box2d,classic_control]==0.29.1) (6.4.0)\n",
      "Requirement already satisfied: AutoROM.accept-rom-license in c:\\users\\bayan\\miniconda3\\envs\\cs4278-assignment3\\lib\\site-packages (from autorom[accept-rom-license]~=0.4.2; extra == \"accept-rom-license\"->gymnasium[accept-rom-license,box2d,classic_control]==0.29.1) (0.6.1)\n",
      "Requirement already satisfied: zipp>=0.5 in c:\\users\\bayan\\miniconda3\\envs\\cs4278-assignment3\\lib\\site-packages (from importlib-metadata>=4.8.0->gymnasium==0.29.1->gymnasium[accept-rom-license,box2d,classic_control]==0.29.1) (3.20.2)\n",
      "Requirement already satisfied: colorama in c:\\users\\bayan\\miniconda3\\envs\\cs4278-assignment3\\lib\\site-packages (from click->autorom~=0.4.2->autorom[accept-rom-license]~=0.4.2; extra == \"accept-rom-license\"->gymnasium[accept-rom-license,box2d,classic_control]==0.29.1) (0.4.6)\n",
      "Requirement already satisfied: charset-normalizer<4,>=2 in c:\\users\\bayan\\miniconda3\\envs\\cs4278-assignment3\\lib\\site-packages (from requests->autorom~=0.4.2->autorom[accept-rom-license]~=0.4.2; extra == \"accept-rom-license\"->gymnasium[accept-rom-license,box2d,classic_control]==0.29.1) (3.3.2)\n",
      "Requirement already satisfied: idna<4,>=2.5 in c:\\users\\bayan\\miniconda3\\envs\\cs4278-assignment3\\lib\\site-packages (from requests->autorom~=0.4.2->autorom[accept-rom-license]~=0.4.2; extra == \"accept-rom-license\"->gymnasium[accept-rom-license,box2d,classic_control]==0.29.1) (3.10)\n",
      "Requirement already satisfied: urllib3<3,>=1.21.1 in c:\\users\\bayan\\miniconda3\\envs\\cs4278-assignment3\\lib\\site-packages (from requests->autorom~=0.4.2->autorom[accept-rom-license]~=0.4.2; extra == \"accept-rom-license\"->gymnasium[accept-rom-license,box2d,classic_control]==0.29.1) (2.2.3)\n",
      "Requirement already satisfied: certifi>=2017.4.17 in c:\\users\\bayan\\miniconda3\\envs\\cs4278-assignment3\\lib\\site-packages (from requests->autorom~=0.4.2->autorom[accept-rom-license]~=0.4.2; extra == \"accept-rom-license\"->gymnasium[accept-rom-license,box2d,classic_control]==0.29.1) (2024.8.30)\n"
     ]
    }
   ],
   "execution_count": 2
  },
  {
   "metadata": {
    "colab": {
     "base_uri": "https://localhost:8080/"
    },
    "id": "Dp-Ed6CtGbTK",
    "outputId": "935e243e-00bf-4740-b424-97138f3b7048",
    "ExecuteTime": {
     "end_time": "2024-12-01T13:38:38.029671Z",
     "start_time": "2024-12-01T13:38:37.893671Z"
    }
   },
   "cell_type": "code",
   "source": [
    "# Verify installation\n",
    "import gymnasium as gym\n",
    "sorted(gym.envs.registry.keys())[:5] + [\"...\"]"
   ],
   "outputs": [
    {
     "data": {
      "text/plain": [
       "['ALE/Adventure-ram-v5',\n",
       " 'ALE/Adventure-v5',\n",
       " 'ALE/AirRaid-ram-v5',\n",
       " 'ALE/AirRaid-v5',\n",
       " 'ALE/Alien-ram-v5',\n",
       " '...']"
      ]
     },
     "execution_count": 3,
     "metadata": {},
     "output_type": "execute_result"
    }
   ],
   "execution_count": 3
  },
  {
   "metadata": {
    "id": "1Zs3xapoGdQ3",
    "ExecuteTime": {
     "end_time": "2024-12-01T13:38:38.121670Z",
     "start_time": "2024-12-01T13:38:38.116671Z"
    }
   },
   "cell_type": "code",
   "source": [
    "# Constants\n",
    "import numpy as np\n",
    "import random\n",
    "\n",
    "SEED = 42\n",
    "random.seed(SEED)\n",
    "np.random.seed(SEED)\n",
    "tf.random.set_seed(SEED)"
   ],
   "outputs": [],
   "execution_count": 4
  },
  {
   "metadata": {
    "colab": {
     "base_uri": "https://localhost:8080/"
    },
    "id": "edxbRXhRGeYw",
    "outputId": "3e44fb57-a0d8-4129-b0e0-adcb5dcab353",
    "ExecuteTime": {
     "end_time": "2024-12-01T13:38:38.277670Z",
     "start_time": "2024-12-01T13:38:38.138672Z"
    }
   },
   "cell_type": "code",
   "source": [
    "env = gym.make('VideoPinballDeterministic-v4', render_mode=\"rgb_array\")\n",
    "obs = env.reset(seed=SEED)\n",
    "obs"
   ],
   "outputs": [
    {
     "data": {
      "text/plain": [
       "(array([[[0, 0, 0],\n",
       "         [0, 0, 0],\n",
       "         [0, 0, 0],\n",
       "         ...,\n",
       "         [0, 0, 0],\n",
       "         [0, 0, 0],\n",
       "         [0, 0, 0]],\n",
       " \n",
       "        [[0, 0, 0],\n",
       "         [0, 0, 0],\n",
       "         [0, 0, 0],\n",
       "         ...,\n",
       "         [0, 0, 0],\n",
       "         [0, 0, 0],\n",
       "         [0, 0, 0]],\n",
       " \n",
       "        [[0, 0, 0],\n",
       "         [0, 0, 0],\n",
       "         [0, 0, 0],\n",
       "         ...,\n",
       "         [0, 0, 0],\n",
       "         [0, 0, 0],\n",
       "         [0, 0, 0]],\n",
       " \n",
       "        ...,\n",
       " \n",
       "        [[0, 0, 0],\n",
       "         [0, 0, 0],\n",
       "         [0, 0, 0],\n",
       "         ...,\n",
       "         [0, 0, 0],\n",
       "         [0, 0, 0],\n",
       "         [0, 0, 0]],\n",
       " \n",
       "        [[0, 0, 0],\n",
       "         [0, 0, 0],\n",
       "         [0, 0, 0],\n",
       "         ...,\n",
       "         [0, 0, 0],\n",
       "         [0, 0, 0],\n",
       "         [0, 0, 0]],\n",
       " \n",
       "        [[0, 0, 0],\n",
       "         [0, 0, 0],\n",
       "         [0, 0, 0],\n",
       "         ...,\n",
       "         [0, 0, 0],\n",
       "         [0, 0, 0],\n",
       "         [0, 0, 0]]], dtype=uint8),\n",
       " {'lives': 3,\n",
       "  'episode_frame_number': 0,\n",
       "  'frame_number': 0,\n",
       "  'seeds': (3444837047, 2669555309)})"
      ]
     },
     "execution_count": 5,
     "metadata": {},
     "output_type": "execute_result"
    }
   ],
   "execution_count": 5
  },
  {
   "metadata": {
    "colab": {
     "base_uri": "https://localhost:8080/"
    },
    "id": "opx-CCmCG10C",
    "outputId": "45bd5c71-5d8f-4fff-e587-45f0f28d86b7",
    "ExecuteTime": {
     "end_time": "2024-12-01T13:38:38.355787Z",
     "start_time": "2024-12-01T13:38:38.350788Z"
    }
   },
   "cell_type": "code",
   "source": [
    "img = env.render()\n",
    "img.shape"
   ],
   "outputs": [
    {
     "name": "stderr",
     "output_type": "stream",
     "text": [
      "C:\\Users\\bayan\\miniconda3\\envs\\CS4278-assignment3\\lib\\site-packages\\gymnasium\\utils\\passive_env_checker.py:335: UserWarning: \u001B[33mWARN: No render fps was declared in the environment (env.metadata['render_fps'] is None or not defined), rendering may occur at inconsistent fps.\u001B[0m\n",
      "  logger.warn(\n"
     ]
    },
    {
     "data": {
      "text/plain": [
       "(210, 160, 3)"
      ]
     },
     "execution_count": 6,
     "metadata": {},
     "output_type": "execute_result"
    }
   ],
   "execution_count": 6
  },
  {
   "metadata": {
    "colab": {
     "base_uri": "https://localhost:8080/",
     "height": 345
    },
    "id": "BhkqyIlLG4HS",
    "outputId": "3a169a23-2d7d-4cb8-d719-0df839529ba5",
    "ExecuteTime": {
     "end_time": "2024-12-01T13:38:38.775194Z",
     "start_time": "2024-12-01T13:38:38.513787Z"
    }
   },
   "cell_type": "code",
   "source": [
    "import matplotlib.pyplot as plt\n",
    "\n",
    "def plot_environment(env, figsize=(5, 4)):\n",
    "  plt.figure(figsize=figsize)\n",
    "  img = env.render()\n",
    "  plt.imshow(img)\n",
    "  plt.axis(\"off\")\n",
    "  return img\n",
    "\n",
    "plot_environment(env)\n",
    "plt.show()"
   ],
   "outputs": [
    {
     "data": {
      "text/plain": [
       "<Figure size 500x400 with 1 Axes>"
      ],
      "image/png": "[encoded data removed]"
     },
     "metadata": {},
     "output_type": "display_data"
    }
   ],
   "execution_count": 7
  },
  {
   "metadata": {
    "colab": {
     "base_uri": "https://localhost:8080/"
    },
    "id": "AneqSz7GG4-S",
    "outputId": "a3aa0514-e745-43bf-89d4-d84b582b0b20",
    "ExecuteTime": {
     "end_time": "2024-12-01T13:38:38.806419Z",
     "start_time": "2024-12-01T13:38:38.792195Z"
    }
   },
   "cell_type": "code",
   "source": [
    "n_outputs = env.action_space.n\n",
    "# input_shape = (np.prod(env.observation_space.shape),)\n",
    "input_shape = env.observation_space.shape\n",
    "\n",
    "print(n_outputs)\n",
    "print(input_shape)"
   ],
   "outputs": [
    {
     "name": "stdout",
     "output_type": "stream",
     "text": [
      "9\n",
      "(210, 160, 3)\n"
     ]
    }
   ],
   "execution_count": 8
  },
  {
   "metadata": {},
   "cell_type": "markdown",
   "source": "![image.png](data:image/png;base64,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)"
  },
  {
   "metadata": {
    "ExecuteTime": {
     "end_time": "2024-12-01T13:38:39.071345Z",
     "start_time": "2024-12-01T13:38:38.823345Z"
    }
   },
   "cell_type": "code",
   "source": [
    "# Constants\n",
    "import numpy as np\n",
    "import random\n",
    "from collections import deque\n",
    "from tensorflow.keras.models import Sequential\n",
    "from tensorflow.keras.layers import Dense, Input, BatchNormalization, Flatten, Conv2D\n",
    "from tensorflow.keras.optimizers import Adam\n",
    "\n",
    "SEED = 42\n",
    "random.seed(SEED)\n",
    "np.random.seed(SEED)\n",
    "tf.random.set_seed(SEED)\n",
    "\n",
    "# We are using Pinball Deterministic\n",
    "# This skips every fourth frame/tick\n",
    "# We are using the pixels in the environment to learn as we believe it best mimics a human learning to play\n",
    "env_string = 'VideoPinballDeterministic-v4'\n",
    "\n",
    "class DQN():\n",
    "  def __init__(self, \n",
    "               env_string,\n",
    "               batch_size=64):\n",
    "    self.memory = deque(maxlen=100000)\n",
    "    self.env = gym.make(env_string)\n",
    "\n",
    "    input_size = (84, 84, 1)\n",
    "    action_size = self.env.action_space.n\n",
    "\n",
    "    print(f'self.env.observation_space = {self.env.observation_space}')\n",
    "    print(f'input_size = {input_size}')\n",
    "    print(f'action_size = {action_size}')\n",
    "\n",
    "    self.batch_size = batch_size\n",
    "    self.gamma = 1.0\n",
    "    self.epsilon = 1.0\n",
    "    self.epsilon_min = 0.01\n",
    "    # This decay rate implies we will need ~920 episodes to reach epsilon_min as it reduces the epsilon by 0.005 per episode\n",
    "    self.epsilon_decay = 0.995\n",
    "    alpha=0.01\n",
    "    # todo: what is this supposed to do?\n",
    "    alpha_decay=0.01\n",
    "    #if MONITOR: self.env = gym.wrappers.Monitor(self.env, '../data/'+env_string, force=True)\n",
    "      \n",
    "    self.build_model(input_size, action_size, alpha)\n",
    "  \n",
    "  def build_model(self, input_shape, n_actions, alpha):\n",
    "    # Init model\n",
    "    self.model = Sequential()\n",
    "    self.model.add(Input(shape=input_shape))\n",
    "    self.model.add(BatchNormalization())\n",
    "    # Convolutional layers\n",
    "    self.model.add(Conv2D(32, (8, 8), strides=4, activation='relu'))\n",
    "    self.model.add(BatchNormalization())\n",
    "    self.model.add(Conv2D(64, (4, 4), strides=2, activation='relu'))\n",
    "    self.model.add(BatchNormalization())\n",
    "    self.model.add(Conv2D(64, (3, 3), strides=1, activation='relu'))\n",
    "    self.model.add(BatchNormalization())\n",
    "\n",
    "    # Fully connected layers\n",
    "    self.model.add(Flatten())\n",
    "    self.model.add(Dense(512, activation='relu'))\n",
    "    self.model.add(Dense(n_actions, activation='linear'))\n",
    "\n",
    "    # Compile\n",
    "    self.model.compile(loss = 'mse', optimizer=Adam(learning_rate = alpha))\n",
    "\n",
    "  # Add the step to memory\n",
    "  def remember(self, state, action, reward, next_state, done):\n",
    "    self.memory.append((state, action, reward, next_state, done))\n",
    "\n",
    "  # Epsilon greedy strategy\n",
    "  def choose_action(self, state, epsilon):\n",
    "    # Randomly choose a random (exploratory) move based on epsilon\n",
    "    # Epsilon is the chance of choosing an exploratory move\n",
    "    if np.random.random() <= epsilon:\n",
    "      return self.env.action_space.sample()\n",
    "    # Otherwise choose an exploitative move\n",
    "    # From our model's predictions we choose what it thinks is most likely to be the optimal move\n",
    "    else:\n",
    "      return np.argmax(self.model.predict(state, verbose=0))\n",
    "\n",
    "  # Preprocessing the state to reduce computation as we are using the resolution of the game (210x160x3)\n",
    "  def preprocess_state(self, state):\n",
    "      if len(state) == 2:\n",
    "        img = state[0]\n",
    "      else:\n",
    "        img = state\n",
    "      # Trim out the top (score & lives) and bottom (black space) as it contains no useful information for our model\n",
    "      img = img[22:192]\n",
    "      # Reduce the number of channels from 3 to 1 as colour is unlikely to have a big effect on performance\n",
    "      img = tf.image.rgb_to_grayscale(img)\n",
    "      # Scaling down the image to a more manageable size\n",
    "      # todo: does aspect ratio have an effect on learning?\n",
    "      img = tf.image.resize([img], [84, 84], method=tf.image.ResizeMethod.NEAREST_NEIGHBOR)\n",
    "      img = tf.cast(img, tf.float32)\n",
    "      return img\n",
    "\n",
    "  def replay(self, batch_size):\n",
    "    if len(self.memory) < batch_size:\n",
    "      return\n",
    "    \n",
    "    x_batch, y_batch = [], []\n",
    "    minibatch = random.sample(self.memory, min(len(self.memory), batch_size))\n",
    "    for state, action, reward, next_state, done in minibatch:\n",
    "      y_target = self.model.predict(state, verbose=0)\n",
    "      y_target[0][action] = reward if done else reward + self.gamma * np.max(self.model.predict(next_state, verbose=0)[0])\n",
    "      x_batch.append(state[0])\n",
    "      y_batch.append(y_target[0])\n",
    "\n",
    "    self.model.fit(np.array(x_batch), np.array(y_batch), batch_size=len(x_batch), verbose=0)\n",
    "\n",
    "  def train(self, epochs = 100):\n",
    "    scores = deque(maxlen=100)\n",
    "    avg_scores = []\n",
    "    \n",
    "    for e in range(epochs):\n",
    "      state = self.env.reset()\n",
    "      state = self.preprocess_state(state)\n",
    "      done = False\n",
    "      # Score is no. of ticks survived\n",
    "      score = 0\n",
    "      while not done:\n",
    "        action = self.choose_action(state, self.epsilon)\n",
    "        next_state, reward, done, _, _ = self.env.step(action)\n",
    "        next_state = self.preprocess_state(next_state)\n",
    "        self.remember(state, action, reward, next_state, done)\n",
    "        state = next_state\n",
    "        score += 1\n",
    "          \n",
    "      scores.append(score)\n",
    "      mean_score = np.mean(scores)\n",
    "      avg_scores.append(mean_score)\n",
    "\n",
    "      print(f'Episode {e+1}/{epochs} complete, score: {score}, epsilon: {np.round(self.epsilon, 4)}')\n",
    "      if (e+1) % 20 == 0:\n",
    "        print(f'[Episode {e+1}] - Mean survival time over last 20 episodes was {mean_score} ticks.')\n",
    "\n",
    "      self.replay(self.batch_size)\n",
    "      # Decrease epsilon after each episode to gradually shift from random to learned actions\n",
    "      self.epsilon = max(self.epsilon_min, self.epsilon_decay*self.epsilon)\n",
    "    \n",
    "    return avg_scores\n",
    "\n",
    "agent = DQN(env_string)\n",
    "agent.model.summary()"
   ],
   "outputs": [
    {
     "name": "stdout",
     "output_type": "stream",
     "text": [
      "self.env.observation_space = Box(0, 255, (210, 160, 3), uint8)\n",
      "input_size = (84, 84, 1)\n",
      "action_size = 9\n",
      "Model: \"sequential\"\n",
      "_________________________________________________________________\n",
      " Layer (type)                Output Shape              Param #   \n",
      "=================================================================\n",
      " batch_normalization (Batch  (None, 84, 84, 1)         4         \n",
      " Normalization)                                                  \n",
      "                                                                 \n",
      " conv2d (Conv2D)             (None, 20, 20, 32)        2080      \n",
      "                                                                 \n",
      " batch_normalization_1 (Bat  (None, 20, 20, 32)        128       \n",
      " chNormalization)                                                \n",
      "                                                                 \n",
      " conv2d_1 (Conv2D)           (None, 9, 9, 64)          32832     \n",
      "                                                                 \n",
      " batch_normalization_2 (Bat  (None, 9, 9, 64)          256       \n",
      " chNormalization)                                                \n",
      "                                                                 \n",
      " conv2d_2 (Conv2D)           (None, 7, 7, 64)          36928     \n",
      "                                                                 \n",
      " batch_normalization_3 (Bat  (None, 7, 7, 64)          256       \n",
      " chNormalization)                                                \n",
      "                                                                 \n",
      " flatten (Flatten)           (None, 3136)              0         \n",
      "                                                                 \n",
      " dense (Dense)               (None, 512)               1606144   \n",
      "                                                                 \n",
      " dense_1 (Dense)             (None, 9)                 4617      \n",
      "                                                                 \n",
      "=================================================================\n",
      "Total params: 1683245 (6.42 MB)\n",
      "Trainable params: 1682923 (6.42 MB)\n",
      "Non-trainable params: 322 (1.26 KB)\n",
      "_________________________________________________________________\n"
     ]
    }
   ],
   "execution_count": 9
  },
  {
   "metadata": {
    "jupyter": {
     "is_executing": true
    },
    "ExecuteTime": {
     "start_time": "2024-12-01T13:38:39.088365Z"
    }
   },
   "cell_type": "code",
   "source": "scores = agent.train()",
   "outputs": [
    {
     "name": "stdout",
     "output_type": "stream",
     "text": [
      "Episode 1/100 complete, score: 2081, epsilon: 1.0\n",
      "Episode 2/100 complete, score: 3811, epsilon: 0.995\n",
      "Episode 3/100 complete, score: 1684, epsilon: 0.990025\n",
      "Episode 4/100 complete, score: 3341, epsilon: 0.985074875\n",
      "Episode 5/100 complete, score: 2078, epsilon: 0.9801495006250001\n",
      "Episode 6/100 complete, score: 2179, epsilon: 0.9752487531218751\n",
      "Episode 7/100 complete, score: 2371, epsilon: 0.9703725093562657\n",
      "Episode 8/100 complete, score: 3441, epsilon: 0.9655206468094844\n",
      "Episode 9/100 complete, score: 3150, epsilon: 0.960693043575437\n",
      "Episode 10/100 complete, score: 1468, epsilon: 0.9558895783575597\n",
      "Episode 11/100 complete, score: 3416, epsilon: 0.9511101304657719\n",
      "Episode 12/100 complete, score: 2367, epsilon: 0.946354579813443\n",
      "Episode 13/100 complete, score: 3810, epsilon: 0.9416228069143757\n",
      "Episode 14/100 complete, score: 2074, epsilon: 0.9369146928798039\n",
      "Episode 15/100 complete, score: 1462, epsilon: 0.9322301194154049\n",
      "Episode 16/100 complete, score: 2926, epsilon: 0.9275689688183278\n",
      "Episode 17/100 complete, score: 3678, epsilon: 0.9229311239742362\n",
      "Episode 18/100 complete, score: 3329, epsilon: 0.918316468354365\n",
      "Episode 19/100 complete, score: 1116, epsilon: 0.9137248860125932\n",
      "Episode 20/100 complete, score: 6183, epsilon: 0.9091562615825302\n",
      "[Episode 19] - Mean survival time over last 20 episodes was 2798.25 ticks.\n",
      "Episode 21/100 complete, score: 4418, epsilon: 0.9046104802746175\n",
      "Episode 22/100 complete, score: 1657, epsilon: 0.9000874278732445\n",
      "Episode 23/100 complete, score: 2708, epsilon: 0.8955869907338783\n",
      "Episode 24/100 complete, score: 1547, epsilon: 0.8911090557802088\n",
      "Episode 25/100 complete, score: 3683, epsilon: 0.8866535105013078\n",
      "Episode 26/100 complete, score: 3004, epsilon: 0.8822202429488013\n",
      "Episode 27/100 complete, score: 5001, epsilon: 0.8778091417340573\n",
      "Episode 28/100 complete, score: 965, epsilon: 0.8734200960253871\n",
      "Episode 29/100 complete, score: 2874, epsilon: 0.8690529955452602\n",
      "Episode 30/100 complete, score: 3749, epsilon: 0.8647077305675338\n",
      "Episode 31/100 complete, score: 2219, epsilon: 0.8603841919146962\n",
      "Episode 32/100 complete, score: 3405, epsilon: 0.8560822709551227\n",
      "Episode 33/100 complete, score: 2437, epsilon: 0.851801859600347\n",
      "Episode 34/100 complete, score: 2234, epsilon: 0.8475428503023453\n",
      "Episode 35/100 complete, score: 3003, epsilon: 0.8433051360508336\n",
      "Episode 36/100 complete, score: 2436, epsilon: 0.8390886103705794\n",
      "Episode 37/100 complete, score: 3808, epsilon: 0.8348931673187264\n"
     ]
    }
   ],
   "execution_count": null
  },
  {
   "metadata": {},
   "cell_type": "code",
   "source": [
    "plt.plot(scores)\n",
    "plt.show()"
   ],
   "outputs": [],
   "execution_count": null
  }
 ]
}
