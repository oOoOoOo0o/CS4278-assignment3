{
 "cells": [
  {
   "cell_type": "markdown",
   "metadata": {
    "id": "8TsJcXsXYj0q"
   },
   "source": [
    "# 20251971 - Bayan Nezamabad, 21321302 - Sam Ennis, 21308128 - Milan Kovacs\n",
    "## Execution runs to end without error"
   ]
  },
  {
   "cell_type": "markdown",
   "metadata": {
    "id": "4vEtJBJlYxkG"
   },
   "source": [
    "# Setup\n"
   ]
  },
  {
   "cell_type": "code",
   "metadata": {
    "id": "auXryfbhGHUr",
    "ExecuteTime": {
     "end_time": "2024-12-10T23:58:17.666103Z",
     "start_time": "2024-12-10T23:58:03.136507Z"
    }
   },
   "source": [
    "from packaging import version\n",
    "import tensorflow as tf\n",
    "import sys\n",
    "assert version.parse(tf.__version__) >= version.parse(\"2.8.0\")"
   ],
   "outputs": [],
   "execution_count": 1
  },
  {
   "cell_type": "code",
   "execution_count": null,
   "metadata": {
    "colab": {
     "base_uri": "https://localhost:8080/"
    },
    "id": "rmNtUhST4HSj",
    "outputId": "a1ae1cf7-f75d-481a-dd00-82897d29cebc"
   },
   "outputs": [
    {
     "data": {
      "text/plain": [
       "[PhysicalDevice(name='/physical_device:GPU:0', device_type='GPU')]"
      ]
     },
     "execution_count": 2,
     "metadata": {},
     "output_type": "execute_result"
    }
   ],
   "source": [
    "# Make sure its running on GPU\n",
    "tf.config.list_physical_devices(\"GPU\")"
   ]
  },
  {
   "cell_type": "markdown",
   "metadata": {
    "id": "418Uy5ISY5bi"
   },
   "source": [
    "We downgrade our Atari version from 1.0.0 tp 0.29.1\n",
    "\n",
    "The If statement checks the environment of running the application, whether it is in Google Colab or local."
   ]
  },
  {
   "cell_type": "code",
   "execution_count": null,
   "metadata": {
    "colab": {
     "base_uri": "https://localhost:8080/"
    },
    "id": "5xW1WKWkGaTo",
    "outputId": "117045ae-e649-486c-e428-73be0ecb3384"
   },
   "outputs": [
    {
     "name": "stdout",
     "output_type": "stream",
     "text": [
      "Collecting gymnasium==0.29.1 (from gymnasium[atari]==0.29.1)\n",
      "  Using cached gymnasium-0.29.1-py3-none-any.whl.metadata (10 kB)\n",
      "Requirement already satisfied: numpy>=1.21.0 in c:\\programdata\\anaconda3\\envs\\tf\\lib\\site-packages (from gymnasium==0.29.1->gymnasium[atari]==0.29.1) (1.26.4)\n",
      "Requirement already satisfied: cloudpickle>=1.2.0 in c:\\programdata\\anaconda3\\envs\\tf\\lib\\site-packages (from gymnasium==0.29.1->gymnasium[atari]==0.29.1) (3.1.0)\n",
      "Requirement already satisfied: typing-extensions>=4.3.0 in c:\\programdata\\anaconda3\\envs\\tf\\lib\\site-packages (from gymnasium==0.29.1->gymnasium[atari]==0.29.1) (4.11.0)\n",
      "Requirement already satisfied: farama-notifications>=0.0.1 in c:\\programdata\\anaconda3\\envs\\tf\\lib\\site-packages (from gymnasium==0.29.1->gymnasium[atari]==0.29.1) (0.0.4)\n",
      "Requirement already satisfied: importlib-metadata>=4.8.0 in c:\\programdata\\anaconda3\\envs\\tf\\lib\\site-packages (from gymnasium==0.29.1->gymnasium[atari]==0.29.1) (8.5.0)\n",
      "Requirement already satisfied: shimmy<1.0,>=0.1.0 in c:\\programdata\\anaconda3\\envs\\tf\\lib\\site-packages (from shimmy[atari]<1.0,>=0.1.0; extra == \"atari\"->gymnasium[atari]==0.29.1) (0.2.1)\n",
      "Requirement already satisfied: zipp>=3.20 in c:\\programdata\\anaconda3\\envs\\tf\\lib\\site-packages (from importlib-metadata>=4.8.0->gymnasium==0.29.1->gymnasium[atari]==0.29.1) (3.21.0)\n",
      "Requirement already satisfied: ale-py~=0.8.1 in c:\\programdata\\anaconda3\\envs\\tf\\lib\\site-packages (from shimmy[atari]<1.0,>=0.1.0; extra == \"atari\"->gymnasium[atari]==0.29.1) (0.8.1)\n",
      "Requirement already satisfied: importlib-resources in c:\\programdata\\anaconda3\\envs\\tf\\lib\\site-packages (from ale-py~=0.8.1->shimmy[atari]<1.0,>=0.1.0; extra == \"atari\"->gymnasium[atari]==0.29.1) (6.4.5)\n",
      "Using cached gymnasium-0.29.1-py3-none-any.whl (953 kB)\n",
      "Installing collected packages: gymnasium\n",
      "  Attempting uninstall: gymnasium\n",
      "    Found existing installation: gymnasium 1.0.0\n",
      "    Uninstalling gymnasium-1.0.0:\n",
      "      Successfully uninstalled gymnasium-1.0.0\n",
      "Successfully installed gymnasium-0.29.1\n",
      "Requirement already satisfied: gymnasium==0.29.1 in c:\\programdata\\anaconda3\\envs\\tf\\lib\\site-packages (from gymnasium[accept-rom-license,box2d,classic_control]==0.29.1) (0.29.1)\n",
      "Requirement already satisfied: numpy>=1.21.0 in c:\\programdata\\anaconda3\\envs\\tf\\lib\\site-packages (from gymnasium==0.29.1->gymnasium[accept-rom-license,box2d,classic_control]==0.29.1) (1.26.4)\n",
      "Requirement already satisfied: cloudpickle>=1.2.0 in c:\\programdata\\anaconda3\\envs\\tf\\lib\\site-packages (from gymnasium==0.29.1->gymnasium[accept-rom-license,box2d,classic_control]==0.29.1) (3.1.0)\n",
      "Requirement already satisfied: typing-extensions>=4.3.0 in c:\\programdata\\anaconda3\\envs\\tf\\lib\\site-packages (from gymnasium==0.29.1->gymnasium[accept-rom-license,box2d,classic_control]==0.29.1) (4.11.0)\n",
      "Requirement already satisfied: farama-notifications>=0.0.1 in c:\\programdata\\anaconda3\\envs\\tf\\lib\\site-packages (from gymnasium==0.29.1->gymnasium[accept-rom-license,box2d,classic_control]==0.29.1) (0.0.4)\n",
      "Requirement already satisfied: importlib-metadata>=4.8.0 in c:\\programdata\\anaconda3\\envs\\tf\\lib\\site-packages (from gymnasium==0.29.1->gymnasium[accept-rom-license,box2d,classic_control]==0.29.1) (8.5.0)\n",
      "Requirement already satisfied: pygame>=2.1.3 in c:\\programdata\\anaconda3\\envs\\tf\\lib\\site-packages (from gymnasium[accept-rom-license,box2d,classic_control]==0.29.1) (2.6.1)\n",
      "Requirement already satisfied: box2d-py==2.3.5 in c:\\programdata\\anaconda3\\envs\\tf\\lib\\site-packages (from gymnasium[accept-rom-license,box2d,classic_control]==0.29.1) (2.3.5)\n",
      "Requirement already satisfied: swig==4.* in c:\\programdata\\anaconda3\\envs\\tf\\lib\\site-packages (from gymnasium[accept-rom-license,box2d,classic_control]==0.29.1) (4.3.0)\n",
      "Requirement already satisfied: autorom~=0.4.2 in c:\\programdata\\anaconda3\\envs\\tf\\lib\\site-packages (from autorom[accept-rom-license]~=0.4.2; extra == \"accept-rom-license\"->gymnasium[accept-rom-license,box2d,classic_control]==0.29.1) (0.4.2)\n",
      "Requirement already satisfied: click in c:\\programdata\\anaconda3\\envs\\tf\\lib\\site-packages (from autorom~=0.4.2->autorom[accept-rom-license]~=0.4.2; extra == \"accept-rom-license\"->gymnasium[accept-rom-license,box2d,classic_control]==0.29.1) (8.1.7)\n",
      "Requirement already satisfied: requests in c:\\programdata\\anaconda3\\envs\\tf\\lib\\site-packages (from autorom~=0.4.2->autorom[accept-rom-license]~=0.4.2; extra == \"accept-rom-license\"->gymnasium[accept-rom-license,box2d,classic_control]==0.29.1) (2.32.3)\n",
      "Requirement already satisfied: tqdm in c:\\programdata\\anaconda3\\envs\\tf\\lib\\site-packages (from autorom~=0.4.2->autorom[accept-rom-license]~=0.4.2; extra == \"accept-rom-license\"->gymnasium[accept-rom-license,box2d,classic_control]==0.29.1) (4.67.1)\n",
      "Requirement already satisfied: AutoROM.accept-rom-license in c:\\programdata\\anaconda3\\envs\\tf\\lib\\site-packages (from autorom[accept-rom-license]~=0.4.2; extra == \"accept-rom-license\"->gymnasium[accept-rom-license,box2d,classic_control]==0.29.1) (0.6.1)\n",
      "Requirement already satisfied: zipp>=3.20 in c:\\programdata\\anaconda3\\envs\\tf\\lib\\site-packages (from importlib-metadata>=4.8.0->gymnasium==0.29.1->gymnasium[accept-rom-license,box2d,classic_control]==0.29.1) (3.21.0)\n",
      "Requirement already satisfied: colorama in c:\\programdata\\anaconda3\\envs\\tf\\lib\\site-packages (from click->autorom~=0.4.2->autorom[accept-rom-license]~=0.4.2; extra == \"accept-rom-license\"->gymnasium[accept-rom-license,box2d,classic_control]==0.29.1) (0.4.6)\n",
      "Requirement already satisfied: charset-normalizer<4,>=2 in c:\\programdata\\anaconda3\\envs\\tf\\lib\\site-packages (from requests->autorom~=0.4.2->autorom[accept-rom-license]~=0.4.2; extra == \"accept-rom-license\"->gymnasium[accept-rom-license,box2d,classic_control]==0.29.1) (3.3.2)\n",
      "Requirement already satisfied: idna<4,>=2.5 in c:\\programdata\\anaconda3\\envs\\tf\\lib\\site-packages (from requests->autorom~=0.4.2->autorom[accept-rom-license]~=0.4.2; extra == \"accept-rom-license\"->gymnasium[accept-rom-license,box2d,classic_control]==0.29.1) (3.10)\n",
      "Requirement already satisfied: urllib3<3,>=1.21.1 in c:\\programdata\\anaconda3\\envs\\tf\\lib\\site-packages (from requests->autorom~=0.4.2->autorom[accept-rom-license]~=0.4.2; extra == \"accept-rom-license\"->gymnasium[accept-rom-license,box2d,classic_control]==0.29.1) (2.2.3)\n",
      "Requirement already satisfied: certifi>=2017.4.17 in c:\\programdata\\anaconda3\\envs\\tf\\lib\\site-packages (from requests->autorom~=0.4.2->autorom[accept-rom-license]~=0.4.2; extra == \"accept-rom-license\"->gymnasium[accept-rom-license,box2d,classic_control]==0.29.1) (2024.8.30)\n"
     ]
    }
   ],
   "source": [
    "if \"google.colab\" in sys.modules or \"kaggle_secrets\" in sys.modules:\n",
    "    %pip install -q -U gymnasium swig\n",
    "    %pip install gymnasium[atari]==0.29.1\n",
    "    %pip install gymnasium[classic_control,box2d,accept-rom-license,ActionWrapper]==0.29.1\n",
    "else:\n",
    "    !pip install -q -U gymnasium swig\n",
    "    !pip install gymnasium[atari]==0.29.1\n",
    "    !pip install gymnasium[classic_control,box2d,accept-rom-license]==0.29.1"
   ]
  },
  {
   "cell_type": "code",
   "execution_count": null,
   "metadata": {
    "colab": {
     "base_uri": "https://localhost:8080/"
    },
    "id": "Dp-Ed6CtGbTK",
    "outputId": "eb20a6b3-41be-4d76-9c23-afc0236d9b19"
   },
   "outputs": [
    {
     "data": {
      "text/plain": [
       "['ALE/Adventure-ram-v5',\n",
       " 'ALE/Adventure-v5',\n",
       " 'ALE/AirRaid-ram-v5',\n",
       " 'ALE/AirRaid-v5',\n",
       " 'ALE/Alien-ram-v5',\n",
       " '...']"
      ]
     },
     "execution_count": 4,
     "metadata": {},
     "output_type": "execute_result"
    }
   ],
   "source": [
    "# Verify installation\n",
    "import gymnasium as gym\n",
    "sorted(gym.envs.registry.keys())[:5] + [\"...\"]"
   ]
  },
  {
   "cell_type": "markdown",
   "metadata": {
    "id": "IhNUrdEcZ6i5"
   },
   "source": [
    "# The Game\n"
   ]
  },
  {
   "cell_type": "markdown",
   "metadata": {
    "id": "8LzlWVfOZmN8"
   },
   "source": [
    "We will apply DQN learning to Demon Attack. We will be using the Deterministic version which is deterministically skips every 4th frame. Rather than using the standard version, where the frame skipping is inconsistent. This should make learning a bit more reliable with the removal of the random event."
   ]
  },
  {
   "metadata": {
    "id": "8lkG6WKdqvAP"
   },
   "cell_type": "markdown",
   "source": [
    "## About the environment\n",
    "The environment consists of tuple of two objects:\n",
    "- The state observation\n",
    "- Info object\n"
   ]
  },
  {
   "metadata": {
    "id": "ued44DR3qvAP"
   },
   "cell_type": "markdown",
   "source": [
    "### The state\n",
    "The state is an array of the 3 pixel channel arrays: list([R, G, B], ...)"
   ]
  },
  {
   "metadata": {
    "id": "pV2FudZVqvAP"
   },
   "cell_type": "markdown",
   "source": [
    "### Info dictionary\n",
    "The info dictionary contains 4 elements, the lives counter, episode_frame_number, frame_number, seeds. We will be extracting the lives value to punish the agent for losing a life/losing the game."
   ]
  },
  {
   "cell_type": "code",
   "execution_count": null,
   "metadata": {
    "colab": {
     "base_uri": "https://localhost:8080/"
    },
    "id": "edxbRXhRGeYw",
    "outputId": "71d9b5d7-652c-43a1-e774-1722c2c3a799"
   },
   "outputs": [
    {
     "data": {
      "text/plain": [
       "(array([[[  0,   0,   0],\n",
       "         [  0,   0,   0],\n",
       "         [  0,   0,   0],\n",
       "         ...,\n",
       "         [  0,   0,   0],\n",
       "         [  0,   0,   0],\n",
       "         [  0,   0,   0]],\n",
       " \n",
       "        [[  0,   0,   0],\n",
       "         [  0,   0,   0],\n",
       "         [  0,   0,   0],\n",
       "         ...,\n",
       "         [  0,   0,   0],\n",
       "         [  0,   0,   0],\n",
       "         [  0,   0,   0]],\n",
       " \n",
       "        [[  0,   0,   0],\n",
       "         [  0,   0,   0],\n",
       "         [  0,   0,   0],\n",
       "         ...,\n",
       "         [  0,   0,   0],\n",
       "         [  0,   0,   0],\n",
       "         [  0,   0,   0]],\n",
       " \n",
       "        ...,\n",
       " \n",
       "        [[  0,   0, 148],\n",
       "         [  0,   0, 148],\n",
       "         [  0,   0, 148],\n",
       "         ...,\n",
       "         [  0,   0, 148],\n",
       "         [  0,   0, 148],\n",
       "         [  0,   0, 148]],\n",
       " \n",
       "        [[  0,   0, 148],\n",
       "         [  0,   0, 148],\n",
       "         [  0,   0, 148],\n",
       "         ...,\n",
       "         [  0,   0, 148],\n",
       "         [  0,   0, 148],\n",
       "         [  0,   0, 148]],\n",
       " \n",
       "        [[  0,   0, 148],\n",
       "         [  0,   0, 148],\n",
       "         [  0,   0, 148],\n",
       "         ...,\n",
       "         [  0,   0, 148],\n",
       "         [  0,   0, 148],\n",
       "         [  0,   0, 148]]], dtype=uint8),\n",
       " {'lives': 1,\n",
       "  'episode_frame_number': 0,\n",
       "  'frame_number': 0,\n",
       "  'seeds': (3444837047, 2669555309)})"
      ]
     },
     "execution_count": 6,
     "metadata": {},
     "output_type": "execute_result"
    }
   ],
   "source": [
    "env = gym.make('DemonAttackDeterministic-v4', render_mode=\"rgb_array\")\n",
    "obs = env.reset(seed=SEED)\n",
    "obs"
   ]
  },
  {
   "metadata": {
    "id": "VHOxpUeyqvAQ"
   },
   "cell_type": "markdown",
   "source": [
    "## Environment in detail"
   ]
  },
  {
   "cell_type": "code",
   "execution_count": null,
   "metadata": {
    "colab": {
     "base_uri": "https://localhost:8080/"
    },
    "id": "opx-CCmCG10C",
    "outputId": "9c68b14e-088b-4d51-cae5-93a82dd24959"
   },
   "outputs": [
    {
     "name": "stderr",
     "output_type": "stream",
     "text": [
      "C:\\ProgramData\\anaconda3\\envs\\tf\\lib\\site-packages\\gymnasium\\utils\\passive_env_checker.py:335: UserWarning: \u001B[33mWARN: No render fps was declared in the environment (env.metadata['render_fps'] is None or not defined), rendering may occur at inconsistent fps.\u001B[0m\n",
      "  logger.warn(\n"
     ]
    },
    {
     "data": {
      "text/plain": [
       "(210, 160, 3)"
      ]
     },
     "execution_count": 7,
     "metadata": {},
     "output_type": "execute_result"
    }
   ],
   "source": [
    "img = env.render()\n",
    "img.shape"
   ]
  },
  {
   "metadata": {
    "id": "I6yRK1aCqvAR"
   },
   "cell_type": "markdown",
   "source": [
    "### Evaluation of the frame\n",
    "The frames are rendered in 210 by 160 pixels, through 3 channels (RGB).\n",
    "\n",
    "The game consists of a platform represented by the blue rectangle on the bottom.\n",
    "The agent is the purple ship on the bottom. It can move left and right, and fire a bullet, represented by the purple vertical line in the picture.\n",
    "The enemies spawn from the sides. There are three types of enemies, you have\n",
    "- Demons: These enemies fly in\n",
    "- Split Demons: Consists of 2 halves, coming from the edges and merging somewhere in the black section of the screen.\n",
    "- Diver Demons:\n",
    "\n",
    "The demons fire bullets represented by the short red dashes. The enemies will then float around with the hopes to land shots on the agent."
   ]
  },
  {
   "cell_type": "code",
   "execution_count": null,
   "metadata": {
    "colab": {
     "base_uri": "https://localhost:8080/",
     "height": 345
    },
    "id": "BhkqyIlLG4HS",
    "outputId": "fcbc865e-09b7-4827-ab1f-a6d6171949df"
   },
   "outputs": [
    {
     "data": {
      "image/png": "[encoded data removed]",
      "text/plain": [
       "<Figure size 500x400 with 1 Axes>"
      ]
     },
     "metadata": {},
     "output_type": "display_data"
    }
   ],
   "source": [
    "import matplotlib.pyplot as plt\n",
    "\n",
    "def plot_environment(env, figsize=(5, 4)):\n",
    "  plt.figure(figsize=figsize)\n",
    "  img = env.render()\n",
    "  plt.imshow(img)\n",
    "  plt.axis(\"off\")\n",
    "  return img\n",
    "\n",
    "plot_environment(env)\n",
    "plt.show()"
   ]
  },
  {
   "metadata": {
    "id": "Fue5m26PqvAU"
   },
   "cell_type": "markdown",
   "source": [
    "### The inputs\n",
    "There are 6 inputs in the game, can as shown by the first number in the cell below.\n",
    "\n",
    "The 6 actions maps from 0 to 5 with the moves: Noop, Fire, Right, Left, Right and Fire, Left and fire respectively.\n",
    "\n",
    "Image taken from: https://ale.farama.org/environments/demon_attack/"
   ]
  },
  {
   "metadata": {
    "id": "dMUKQ1W-qvAU"
   },
   "cell_type": "markdown",
   "source": [
    "![image.png](data:image/png;base64,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)"
   ]
  },
  {
   "cell_type": "code",
   "execution_count": null,
   "metadata": {
    "colab": {
     "base_uri": "https://localhost:8080/"
    },
    "id": "AneqSz7GG4-S",
    "outputId": "d0d34238-10fb-452b-d1df-a120775d19ed"
   },
   "outputs": [
    {
     "name": "stdout",
     "output_type": "stream",
     "text": [
      "6\n",
      "(210, 160, 3)\n"
     ]
    }
   ],
   "source": [
    "n_actions = env.action_space.n\n",
    "input_shape = env.observation_space.shape\n",
    "\n",
    "print(n_actions)\n",
    "print(input_shape)"
   ]
  },
  {
   "cell_type": "markdown",
   "metadata": {
    "id": "XAd3Ya18duGa"
   },
   "source": [
    "source: https://atariage.com/manual_html_page.php?SoftwareLabelID=588"
   ]
  },
  {
   "cell_type": "markdown",
   "metadata": {
    "id": "8yIxzRZ2ds3q"
   },
   "source": [
    "![image.png](data:image/png;base64,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)"
   ]
  },
  {
   "cell_type": "code",
   "execution_count": null,
   "metadata": {
    "colab": {
     "base_uri": "https://localhost:8080/"
    },
    "id": "HFj4nFk1YfF4",
    "outputId": "9d875d30-c743-4833-a153-00f152c0cad5"
   },
   "outputs": [
    {
     "name": "stdout",
     "output_type": "stream",
     "text": [
      "self.env.observation_space = Box(0, 255, (210, 160, 3), uint8)\n",
      "input_size = (84, 84, 1)\n",
      "action_size = 6\n"
     ]
    }
   ],
   "source": [
    "# Constants\n",
    "import numpy as np\n",
    "import random\n",
    "from collections import deque\n",
    "from tensorflow.keras.models import Sequential\n",
    "from tensorflow.keras.layers import Dense, Input, BatchNormalization, Flatten, Conv2D\n",
    "from tensorflow.keras.optimizers import Adam\n",
    "\n",
    "SEED = 42\n",
    "random.seed(SEED)\n",
    "np.random.seed(SEED)\n",
    "tf.random.set_seed(SEED)\n",
    "\n",
    "\n",
    "# We are using Pinball Deterministic\n",
    "# This skips every fourth frame/tick\n",
    "# We are using the pixels in the environment to learn as we believe it best mimics a human learning to play\n",
    "env_string = 'DemonAttackDeterministic-v4'\n",
    "\n",
    "class DQN():\n",
    "  def __init__(self,\n",
    "               env_string,\n",
    "               batch_size=64):\n",
    "    self.memory = deque(maxlen=100_000)\n",
    "    self.env = gym.make(env_string)\n",
    "\n",
    "    input_size = (84, 84, 1)\n",
    "    action_size = self.env.action_space.n\n",
    "\n",
    "    print(f'self.env.observation_space = {self.env.observation_space}')\n",
    "    print(f'input_size = {input_size}')\n",
    "    print(f'action_size = {action_size}')\n",
    "\n",
    "    self.batch_size = batch_size\n",
    "    self.gamma = 1.0\n",
    "    self.epsilon = 1.0\n",
    "    self.epsilon_min = 0.01\n",
    "    # This decay rate implies we will need ~920 episodes to reach epsilon_min as it reduces the epsilon by 0.5% per episode\n",
    "    self.epsilon_decay = 0.99 # <== Changed from 0.995\n",
    "    alpha=0.01\n",
    "    # todo: what is this supposed to do?\n",
    "    alpha_decay=0.01\n",
    "    #if MONITOR: self.env = gym.wrappers.Monitor(self.env, '../data/'+env_string, force=True)\n",
    "\n",
    "    self.build_model(input_size, action_size, alpha)\n",
    "\n",
    "    self.fixed_agent = tf.keras.models.clone_model(self.model)\n",
    "    self.fixed_agent.set_weights(self.model.get_weights())\n",
    "\n",
    "\n",
    "  def build_model(self, input_shape, n_actions, alpha):\n",
    "    # Init model\n",
    "    self.model = Sequential()\n",
    "    self.model.add(Input(shape=input_shape))\n",
    "    self.model.add(BatchNormalization())\n",
    "    # Convolutional layers\n",
    "    self.model.add(Conv2D(32, (2, 2), strides=2, activation='relu'))\n",
    "    self.model.add(BatchNormalization())\n",
    "    #self.model.add(Conv2D(64, (3, 3), strides=2, activation='relu'))\n",
    "    #self.model.add(BatchNormalization())\n",
    "    self.model.add(Conv2D(64, (3, 3), strides=1, activation='relu'))\n",
    "    self.model.add(BatchNormalization())\n",
    "\n",
    "    # Fully connected layers\n",
    "    self.model.add(Flatten())\n",
    "    self.model.add(Dense(32, activation='relu'))\n",
    "    self.model.add(Dense(n_actions, activation='linear'))\n",
    "\n",
    "    # Compile\n",
    "    self.model.compile(loss = 'mse', optimizer=Adam(learning_rate = alpha))\n",
    "\n",
    "  # Add the step to memory\n",
    "  def remember(self, state, action, reward, next_state, done):\n",
    "    self.memory.append((state, action, reward, next_state, done))\n",
    "\n",
    "  # Epsilon greedy strategy\n",
    "  def choose_action(self, state):\n",
    "    if np.random.random() <= self.epsilon:\n",
    "      # Randomly choose a random (exploratory) move based on epsilon\n",
    "      # Epsilon is the chance of choosing an exploratory move\n",
    "      return self.env.action_space.sample()\n",
    "    else:\n",
    "      # Otherwise choose an exploitative move\n",
    "      # From our model's predictions we choose what it thinks is most likely to be the optimal move\n",
    "      return np.argmax(self.fixed_agent.predict(state, verbose=0)) # <== CHANGED FOR FIXED DQN\n",
    "\n",
    "  # Preprocessing the state to reduce computation as we are using the resolution of the game (210x160x3)\n",
    "  def preprocess_state(self, state):\n",
    "      if len(state) == 2:\n",
    "        img = state[0]\n",
    "      else:\n",
    "        img = state\n",
    "      # Trim out the top (score & lives) and bottom (black space) as it contains no useful information for our model\n",
    "      # img = img[22:192]\n",
    "      # Reduce the number of channels from 3 to 1 as colour is unlikely to have a big effect on performance\n",
    "      img = tf.image.rgb_to_grayscale(img)\n",
    "      # Scaling down the image to a more manageable size\n",
    "      # todo: does aspect ratio have an effect on learning?\n",
    "      img = tf.image.resize([img], [84, 84], method=tf.image.ResizeMethod.NEAREST_NEIGHBOR)\n",
    "      img = tf.cast(img, tf.float32)\n",
    "      return img\n",
    "\n",
    "  def replay(self, batch_size):\n",
    "    if len(self.memory) < batch_size:\n",
    "      return\n",
    "\n",
    "    x_batch, y_batch = [], []\n",
    "    minibatch = random.sample(self.memory, min(len(self.memory), batch_size))\n",
    "    for state, action, reward, next_state, done in minibatch:\n",
    "      y_target = self.model.predict(state, verbose=0)\n",
    "      y_target[0][action] = reward if done else reward + self.gamma * np.max(self.model.predict(next_state, verbose=0)[0])\n",
    "      x_batch.append(state[0])\n",
    "      y_batch.append(y_target[0])\n",
    "\n",
    "    self.model.fit(np.array(x_batch), np.array(y_batch), batch_size=len(x_batch), verbose=0)\n",
    "\n",
    "  def train(self, epochs = 50):\n",
    "    scores = deque(maxlen=100)\n",
    "    avg_scores = []\n",
    "\n",
    "    score_cap = 1_000_000\n",
    "    frame_cap = 2_000\n",
    "    for episode in range(epochs):\n",
    "      state, info = self.env.reset()\n",
    "      self.lives_remaining = info.get('lives', 1)\n",
    "\n",
    "      state = self.preprocess_state(state)\n",
    "      done = False\n",
    "      # Score is no. of ticks survived\n",
    "      score = 0\n",
    "      frame_count = 0\n",
    "      while not done:\n",
    "        action = self.choose_action(state)\n",
    "        next_state, reward, done, _, info = self.env.step(action)\n",
    "        next_state = self.preprocess_state(next_state)\n",
    "\n",
    "        # Punish agent for losing a life\n",
    "        current_lives = info.get('lives')\n",
    "        if current_lives < self.lives_remaining:\n",
    "            print(\"Life lost\")\n",
    "            reward -= 500\n",
    "            self.lives_remaining = current_lives\n",
    "\n",
    "        self.remember(state, action, reward, next_state, done)\n",
    "        state = next_state\n",
    "        score += reward\n",
    "\n",
    "        frame_count += 1\n",
    "\n",
    "        if frame_count >= frame_cap:\n",
    "          print(f\"Frame cap has been reached: {frame_cap} frames for episode {episode + 1}\")\n",
    "          break\n",
    "\n",
    "        #if action == 0:\n",
    "        #   reward -= 0.1\n",
    "\n",
    "        # if score >= score_cap:\n",
    "        #   print(f\"Score cap has been reached: {score_cap} points for epside {episode + 1}\")\n",
    "        #   break\n",
    "\n",
    "\n",
    "      scores.append(score)\n",
    "      mean_score = np.mean(scores)\n",
    "      avg_scores.append(mean_score)\n",
    "\n",
    "      print(f'Episode {episode+1}/{epochs} complete, score: {score}, epsilon: {np.round(self.epsilon, 4)}')\n",
    "      if (episode+1) % 20 == 0:\n",
    "        print(f'[Episode {episode+1}] - Mean survival time over last 20 episodes was {mean_score} ticks.')\n",
    "\n",
    "      if ((episode + 1) % 10) == 0:\n",
    "        print(f'Updating target Agent for epside {episode + 1} onwards')\n",
    "        self.fixed_agent.set_weights(self.model.get_weights())\n",
    "\n",
    "      if (episode) == 35:\n",
    "        self.epsilon = 0.40\n",
    "\n",
    "      self.replay(self.batch_size)\n",
    "      # Decrease epsilon after each episode to gradually shift from random to learned actions\n",
    "      self.epsilon = max(self.epsilon_min, self.epsilon_decay*self.epsilon)\n",
    "\n",
    "    return avg_scores\n",
    "\n",
    "\n",
    "agent = DQN(env_string)\n",
    "\n",
    "# agent.model.summary()"
   ]
  },
  {
   "cell_type": "markdown",
   "metadata": {
    "id": "CX6EbVM1aaFo"
   },
   "source": [
    "## Fixed DQN"
   ]
  },
  {
   "cell_type": "code",
   "execution_count": null,
   "metadata": {
    "colab": {
     "base_uri": "https://localhost:8080/"
    },
    "id": "Kf9Y7UkIYfF6",
    "outputId": "c2ec4c05-994e-4faf-b396-37c2dd4453b3"
   },
   "outputs": [
    {
     "name": "stdout",
     "output_type": "stream",
     "text": [
      "Life lost\n",
      "Episode 1/50 complete, score: -400.0, epsilon: 1.0\n",
      "Life lost\n",
      "Episode 2/50 complete, score: -325.0, epsilon: 0.99\n",
      "Life lost\n",
      "Episode 3/50 complete, score: -430.0, epsilon: 0.9801\n",
      "Frame cap has been reached: 2000 frames for episode 4\n",
      "Episode 4/50 complete, score: 150.0, epsilon: 0.9703\n",
      "Life lost\n",
      "Episode 5/50 complete, score: -360.0, epsilon: 0.9606\n",
      "Life lost\n",
      "Episode 6/50 complete, score: -370.0, epsilon: 0.951\n",
      "Life lost\n",
      "Episode 7/50 complete, score: -145.0, epsilon: 0.9415\n",
      "Frame cap has been reached: 2000 frames for episode 8\n",
      "Episode 8/50 complete, score: 370.0, epsilon: 0.9321\n",
      "Life lost\n",
      "Episode 9/50 complete, score: -235.0, epsilon: 0.9227\n",
      "Life lost\n",
      "Episode 10/50 complete, score: -360.0, epsilon: 0.9135\n",
      "Updating target Agent for epside 10 onwards\n",
      "Life lost\n",
      "Episode 11/50 complete, score: -280.0, epsilon: 0.9044\n",
      "Life lost\n",
      "Episode 12/50 complete, score: -175.0, epsilon: 0.8953\n",
      "Life lost\n",
      "Episode 13/50 complete, score: -380.0, epsilon: 0.8864\n",
      "Life lost\n",
      "Episode 14/50 complete, score: -250.0, epsilon: 0.8775\n",
      "Life lost\n",
      "Episode 15/50 complete, score: -265.0, epsilon: 0.8687\n",
      "Life lost\n",
      "Episode 16/50 complete, score: -310.0, epsilon: 0.8601\n",
      "Life lost\n",
      "Episode 17/50 complete, score: -350.0, epsilon: 0.8515\n",
      "Life lost\n",
      "Episode 18/50 complete, score: -430.0, epsilon: 0.8429\n",
      "Life lost\n",
      "Episode 19/50 complete, score: -340.0, epsilon: 0.8345\n",
      "Life lost\n",
      "Episode 20/50 complete, score: -265.0, epsilon: 0.8262\n",
      "[Episode 20] - Mean survival time over last 20 episodes was -257.5 ticks.\n",
      "Updating target Agent for epside 20 onwards\n",
      "Frame cap has been reached: 2000 frames for episode 21\n",
      "Episode 21/50 complete, score: 70.0, epsilon: 0.8179\n",
      "Life lost\n",
      "Episode 22/50 complete, score: -460.0, epsilon: 0.8097\n",
      "Frame cap has been reached: 2000 frames for episode 23\n",
      "Episode 23/50 complete, score: 60.0, epsilon: 0.8016\n",
      "Frame cap has been reached: 2000 frames for episode 24\n",
      "Episode 24/50 complete, score: 150.0, epsilon: 0.7936\n",
      "Frame cap has been reached: 2000 frames for episode 25\n",
      "Episode 25/50 complete, score: 60.0, epsilon: 0.7857\n",
      "Frame cap has been reached: 2000 frames for episode 26\n",
      "Episode 26/50 complete, score: 60.0, epsilon: 0.7778\n",
      "Frame cap has been reached: 2000 frames for episode 27\n",
      "Episode 27/50 complete, score: 150.0, epsilon: 0.77\n",
      "Frame cap has been reached: 2000 frames for episode 28\n",
      "Episode 28/50 complete, score: 60.0, epsilon: 0.7623\n",
      "Frame cap has been reached: 2000 frames for episode 29\n",
      "Episode 29/50 complete, score: 70.0, epsilon: 0.7547\n",
      "Frame cap has been reached: 2000 frames for episode 30\n",
      "Episode 30/50 complete, score: 70.0, epsilon: 0.7472\n",
      "Updating target Agent for epside 30 onwards\n",
      "Frame cap has been reached: 2000 frames for episode 31\n",
      "Episode 31/50 complete, score: 60.0, epsilon: 0.7397\n",
      "Frame cap has been reached: 2000 frames for episode 32\n",
      "Episode 32/50 complete, score: 70.0, epsilon: 0.7323\n",
      "Frame cap has been reached: 2000 frames for episode 33\n",
      "Episode 33/50 complete, score: 70.0, epsilon: 0.725\n",
      "Life lost\n",
      "Episode 34/50 complete, score: -420.0, epsilon: 0.7177\n",
      "Frame cap has been reached: 2000 frames for episode 35\n",
      "Episode 35/50 complete, score: 70.0, epsilon: 0.7106\n",
      "Frame cap has been reached: 2000 frames for episode 36\n",
      "Episode 36/50 complete, score: 70.0, epsilon: 0.7034\n",
      "Frame cap has been reached: 2000 frames for episode 37\n",
      "Episode 37/50 complete, score: 70.0, epsilon: 0.396\n",
      "Frame cap has been reached: 2000 frames for episode 38\n",
      "Episode 38/50 complete, score: 70.0, epsilon: 0.392\n",
      "Frame cap has been reached: 2000 frames for episode 39\n",
      "Episode 39/50 complete, score: 60.0, epsilon: 0.3881\n",
      "Frame cap has been reached: 2000 frames for episode 40\n",
      "Episode 40/50 complete, score: 60.0, epsilon: 0.3842\n",
      "[Episode 40] - Mean survival time over last 20 episodes was -117.0 ticks.\n",
      "Updating target Agent for epside 40 onwards\n",
      "Life lost\n",
      "Episode 41/50 complete, score: -480.0, epsilon: 0.3804\n",
      "Frame cap has been reached: 2000 frames for episode 42\n",
      "Episode 42/50 complete, score: 80.0, epsilon: 0.3766\n",
      "Frame cap has been reached: 2000 frames for episode 43\n",
      "Episode 43/50 complete, score: 60.0, epsilon: 0.3728\n",
      "Frame cap has been reached: 2000 frames for episode 44\n",
      "Episode 44/50 complete, score: 70.0, epsilon: 0.3691\n",
      "Life lost\n",
      "Episode 45/50 complete, score: -450.0, epsilon: 0.3654\n",
      "Frame cap has been reached: 2000 frames for episode 46\n",
      "Episode 46/50 complete, score: 60.0, epsilon: 0.3618\n",
      "Frame cap has been reached: 2000 frames for episode 47\n",
      "Episode 47/50 complete, score: 70.0, epsilon: 0.3581\n",
      "Frame cap has been reached: 2000 frames for episode 48\n",
      "Episode 48/50 complete, score: 70.0, epsilon: 0.3546\n",
      "Frame cap has been reached: 2000 frames for episode 49\n",
      "Episode 49/50 complete, score: 60.0, epsilon: 0.351\n",
      "Frame cap has been reached: 2000 frames for episode 50\n",
      "Episode 50/50 complete, score: 60.0, epsilon: 0.3475\n",
      "Updating target Agent for epside 50 onwards\n"
     ]
    }
   ],
   "source": [
    "scores = agent.train()"
   ]
  },
  {
   "cell_type": "code",
   "source": [
    "import numpy as np\n",
    "import matplotlib.pyplot as plt\n",
    "\n",
    "# Load scores from scores.npy\n",
    "scores = np.load('scores.npy')"
   ],
   "metadata": {
    "id": "BuftwtWr_2vj",
    "ExecuteTime": {
     "end_time": "2024-12-10T23:58:24.055711Z",
     "start_time": "2024-12-10T23:58:23.286173Z"
    }
   },
   "outputs": [],
   "execution_count": 2
  },
  {
   "metadata": {
    "ExecuteTime": {
     "end_time": "2024-12-11T00:10:55.124487Z",
     "start_time": "2024-12-11T00:10:53.510631Z"
    }
   },
   "cell_type": "code",
   "source": [
    "# Plot the mean against the scores\n",
    "mean_scores = list()\n",
    "for i in range(0, len(scores)):\n",
    "    mean_scores.append(np.mean(scores[:i+1]))\n",
    "    \n",
    "plt.plot(scores, label='Scores')\n",
    "plt.plot(mean_scores, label='Mean Scores')\n",
    "plt.legend()\n",
    "plt.show()"
   ],
   "outputs": [
    {
     "data": {
      "text/plain": [
       "<Figure size 640x480 with 1 Axes>"
      ],
      "image/png": "[encoded data removed]"
     },
     "metadata": {},
     "output_type": "display_data"
    }
   ],
   "execution_count": 6
  },
  {
   "metadata": {},
   "cell_type": "code",
   "outputs": [],
   "execution_count": null,
   "source": [
    "agent.model.save('dqn_model.h5')\n",
    "np.save('scores.npy', scores)"
   ]
  },
  {
   "cell_type": "code",
   "execution_count": null,
   "metadata": {
    "id": "xZeSm7XIgLN4"
   },
   "outputs": [],
   "source": [
    "import matplotlib.animation\n",
    "import matplotlib.pyplot as plt\n",
    "\n",
    "plt.rc('font', size=14)\n",
    "plt.rc('axes', labelsize=14, titlesize=14)\n",
    "plt.rc('legend', fontsize=14)\n",
    "plt.rc('xtick', labelsize=10)\n",
    "plt.rc('ytick', labelsize=10)\n",
    "plt.rc('animation', html='jshtml')"
   ]
  },
  {
   "cell_type": "code",
   "execution_count": null,
   "metadata": {
    "id": "_d-9uTSIgLl3",
    "outputId": "6958fc52-78bf-4bd0-8519-d9d8a3b7e1ae"
   },
   "outputs": [
    {
     "name": "stderr",
     "output_type": "stream",
     "text": [
      "C:\\ProgramData\\anaconda3\\envs\\tf\\lib\\site-packages\\gymnasium\\utils\\passive_env_checker.py:335: UserWarning: \u001B[33mWARN: No render fps was declared in the environment (env.metadata['render_fps'] is None or not defined), rendering may occur at inconsistent fps.\u001B[0m\n",
      "  logger.warn(\n"
     ]
    },
    {
     "name": "stdout",
     "output_type": "stream",
     "text": [
      "Frame cap has been reached: 2000 frames for episode 1\n"
     ]
    }
   ],
   "source": [
    "# Sauce: https://colab.research.google.com/github/ageron/handson-ml3/blob/main/18_reinforcement_learning.ipynb#scrollTo=GT0x6sxhjrhf\n",
    "import matplotlib.pyplot as plt\n",
    "import matplotlib.animation as animation\n",
    "\n",
    "name_of_video = \"Demon_Attack_play_one_episode.mp4\"\n",
    "\n",
    "def update_scene(num, frames, patch):\n",
    "    patch.set_data(frames[num])\n",
    "    return patch,\n",
    "\n",
    "def plot_animation(frames, repeat=False, interval=40):\n",
    "    fig = plt.figure()\n",
    "    patch = plt.imshow(frames[0])\n",
    "    plt.axis('off')\n",
    "    anim = matplotlib.animation.FuncAnimation(\n",
    "        fig, update_scene, fargs=(frames, patch),\n",
    "        frames=len(frames), repeat=repeat, interval=interval)\n",
    "    anim.save('episode_video.mp4', writer=\"ffmpeg\", fps=15)\n",
    "    print(f\"Saved video to {name_of_video}\")\n",
    "    plt.close()\n",
    "    return anim\n",
    "\n",
    "def show_open_episode(agent, seed = 42):\n",
    "    frames = []\n",
    "    frame_cap = 10_000\n",
    "    agent.env = gym.make(\"DemonAttackDeterministic-v4\", render_mode=\"rgb_array\")\n",
    "    for episode in range(1):\n",
    "        state, info = agent.env.reset(seed=SEED)\n",
    "        agent.current_lives = info.get('info', 1)\n",
    "        state = agent.preprocess_state(state)\n",
    "        done = False\n",
    "        score = 0\n",
    "        frame_count = 0\n",
    "        while not done:\n",
    "            frame = agent.env.render()\n",
    "            frames.append(frame)\n",
    "            action = agent.choose_action(state)\n",
    "            next_state, reward, done, _, _ = agent.env.step(action)\n",
    "            next_state = agent.preprocess_state(next_state)     \n",
    "\n",
    "            agent.remember(state, action, reward, next_state, done)\n",
    "            state = next_state\n",
    "            score += reward\n",
    "\n",
    "            frame_count += 1\n",
    "\n",
    "            if frame_count >= frame_cap:\n",
    "                print(f\"Frame cap has been reached: {frame_cap} frames for episode {episode + 1}\")\n",
    "                break\n",
    "    agent.env.close()\n",
    "    return plot_animation(frames)\n",
    "\n",
    "show_open_episode(agent)"
   ]
  }
 ],
 "metadata": {
  "accelerator": "GPU",
  "colab": {
   "gpuType": "T4",
   "provenance": []
  },
  "kernelspec": {
   "display_name": "Python 3 (ipykernel)",
   "language": "python",
   "name": "python3"
  },
  "language_info": {
   "codemirror_mode": {
    "name": "ipython",
    "version": 3
   },
   "file_extension": ".py",
   "mimetype": "text/x-python",
   "name": "python",
   "nbconvert_exporter": "python",
   "pygments_lexer": "ipython3",
   "version": "3.9.20"
  }
 },
 "nbformat": 4,
 "nbformat_minor": 0
}
