{
 "cells": [
  {
   "cell_type": "markdown",
   "metadata": {
    "id": "8TsJcXsXYj0q"
   },
   "source": [
    "## 20251971 - Bayan Nezamabad, 21321302 - Sam Ennis, 21308128 - Milan Kovacs\n",
    "## Execution runs to end without error"
   ]
  },
  {
   "metadata": {},
   "cell_type": "markdown",
   "source": [
    "## 1. Why Reinforcement Learning for the task of playing Atari games?\n",
    "Reinforcement learning is a branch of Machine Learning that is used to make a sequence of decision, by interacting the agent (the model) with its environment. The idea behind reinforcement learning is to mimic human learning, where the agent learns from the consequences of its action. This can help the agent make decisions from positive and negative experience. (Hou, 2023)\n",
    "\n",
    "Video games overtime have became more advanced, where the state space is quite large due to a minor change in the environment. This makes it difficult for traditional methods to solve the game. Rule-based agents restrict the flexibility and it struggles to react to change. Reinforcement Learning forces the agent to figure out with experience the function of best fit and make decisions based on experience. (Hou, 2023)\n",
    "\n",
    "Due to the complexity of the environment, Reinforcement Learning is a good paradigm for solving the Demon Attack, in the Atari 2600. [1]\n"
   ]
  },
  {
   "cell_type": "markdown",
   "metadata": {
    "id": "4vEtJBJlYxkG"
   },
   "source": [
    "## 2. The Gym Environment\n",
    "### 2.1 Setup\n"
   ]
  },
  {
   "cell_type": "code",
   "metadata": {
    "id": "auXryfbhGHUr",
    "ExecuteTime": {
     "end_time": "2024-12-10T23:58:17.666103Z",
     "start_time": "2024-12-10T23:58:03.136507Z"
    }
   },
   "source": [
    "from packaging import version\n",
    "import tensorflow as tf\n",
    "import sys\n",
    "assert version.parse(tf.__version__) >= version.parse(\"2.8.0\")"
   ],
   "outputs": [],
   "execution_count": 1
  },
  {
   "cell_type": "code",
   "execution_count": null,
   "metadata": {
    "colab": {
     "base_uri": "https://localhost:8080/"
    },
    "id": "rmNtUhST4HSj",
    "outputId": "a1ae1cf7-f75d-481a-dd00-82897d29cebc"
   },
   "outputs": [
    {
     "data": {
      "text/plain": [
       "[PhysicalDevice(name='/physical_device:GPU:0', device_type='GPU')]"
      ]
     },
     "execution_count": 2,
     "metadata": {},
     "output_type": "execute_result"
    }
   ],
   "source": [
    "# Make sure its running on GPU\n",
    "tf.config.list_physical_devices(\"GPU\")"
   ]
  },
  {
   "cell_type": "markdown",
   "metadata": {
    "id": "418Uy5ISY5bi"
   },
   "source": [
    "We downgrade our Atari version from 1.0.0 tp 0.29.1\n",
    "\n",
    "The If statement checks the environment of running the application, whether it is in Google Colab or local."
   ]
  },
  {
   "cell_type": "code",
   "execution_count": null,
   "metadata": {
    "colab": {
     "base_uri": "https://localhost:8080/"
    },
    "id": "5xW1WKWkGaTo",
    "outputId": "117045ae-e649-486c-e428-73be0ecb3384"
   },
   "outputs": [
    {
     "name": "stdout",
     "output_type": "stream",
     "text": [
      "Collecting gymnasium==0.29.1 (from gymnasium[atari]==0.29.1)\n",
      "  Using cached gymnasium-0.29.1-py3-none-any.whl.metadata (10 kB)\n",
      "Requirement already satisfied: numpy>=1.21.0 in c:\\programdata\\anaconda3\\envs\\tf\\lib\\site-packages (from gymnasium==0.29.1->gymnasium[atari]==0.29.1) (1.26.4)\n",
      "Requirement already satisfied: cloudpickle>=1.2.0 in c:\\programdata\\anaconda3\\envs\\tf\\lib\\site-packages (from gymnasium==0.29.1->gymnasium[atari]==0.29.1) (3.1.0)\n",
      "Requirement already satisfied: typing-extensions>=4.3.0 in c:\\programdata\\anaconda3\\envs\\tf\\lib\\site-packages (from gymnasium==0.29.1->gymnasium[atari]==0.29.1) (4.11.0)\n",
      "Requirement already satisfied: farama-notifications>=0.0.1 in c:\\programdata\\anaconda3\\envs\\tf\\lib\\site-packages (from gymnasium==0.29.1->gymnasium[atari]==0.29.1) (0.0.4)\n",
      "Requirement already satisfied: importlib-metadata>=4.8.0 in c:\\programdata\\anaconda3\\envs\\tf\\lib\\site-packages (from gymnasium==0.29.1->gymnasium[atari]==0.29.1) (8.5.0)\n",
      "Requirement already satisfied: shimmy<1.0,>=0.1.0 in c:\\programdata\\anaconda3\\envs\\tf\\lib\\site-packages (from shimmy[atari]<1.0,>=0.1.0; extra == \"atari\"->gymnasium[atari]==0.29.1) (0.2.1)\n",
      "Requirement already satisfied: zipp>=3.20 in c:\\programdata\\anaconda3\\envs\\tf\\lib\\site-packages (from importlib-metadata>=4.8.0->gymnasium==0.29.1->gymnasium[atari]==0.29.1) (3.21.0)\n",
      "Requirement already satisfied: ale-py~=0.8.1 in c:\\programdata\\anaconda3\\envs\\tf\\lib\\site-packages (from shimmy[atari]<1.0,>=0.1.0; extra == \"atari\"->gymnasium[atari]==0.29.1) (0.8.1)\n",
      "Requirement already satisfied: importlib-resources in c:\\programdata\\anaconda3\\envs\\tf\\lib\\site-packages (from ale-py~=0.8.1->shimmy[atari]<1.0,>=0.1.0; extra == \"atari\"->gymnasium[atari]==0.29.1) (6.4.5)\n",
      "Using cached gymnasium-0.29.1-py3-none-any.whl (953 kB)\n",
      "Installing collected packages: gymnasium\n",
      "  Attempting uninstall: gymnasium\n",
      "    Found existing installation: gymnasium 1.0.0\n",
      "    Uninstalling gymnasium-1.0.0:\n",
      "      Successfully uninstalled gymnasium-1.0.0\n",
      "Successfully installed gymnasium-0.29.1\n",
      "Requirement already satisfied: gymnasium==0.29.1 in c:\\programdata\\anaconda3\\envs\\tf\\lib\\site-packages (from gymnasium[accept-rom-license,box2d,classic_control]==0.29.1) (0.29.1)\n",
      "Requirement already satisfied: numpy>=1.21.0 in c:\\programdata\\anaconda3\\envs\\tf\\lib\\site-packages (from gymnasium==0.29.1->gymnasium[accept-rom-license,box2d,classic_control]==0.29.1) (1.26.4)\n",
      "Requirement already satisfied: cloudpickle>=1.2.0 in c:\\programdata\\anaconda3\\envs\\tf\\lib\\site-packages (from gymnasium==0.29.1->gymnasium[accept-rom-license,box2d,classic_control]==0.29.1) (3.1.0)\n",
      "Requirement already satisfied: typing-extensions>=4.3.0 in c:\\programdata\\anaconda3\\envs\\tf\\lib\\site-packages (from gymnasium==0.29.1->gymnasium[accept-rom-license,box2d,classic_control]==0.29.1) (4.11.0)\n",
      "Requirement already satisfied: farama-notifications>=0.0.1 in c:\\programdata\\anaconda3\\envs\\tf\\lib\\site-packages (from gymnasium==0.29.1->gymnasium[accept-rom-license,box2d,classic_control]==0.29.1) (0.0.4)\n",
      "Requirement already satisfied: importlib-metadata>=4.8.0 in c:\\programdata\\anaconda3\\envs\\tf\\lib\\site-packages (from gymnasium==0.29.1->gymnasium[accept-rom-license,box2d,classic_control]==0.29.1) (8.5.0)\n",
      "Requirement already satisfied: pygame>=2.1.3 in c:\\programdata\\anaconda3\\envs\\tf\\lib\\site-packages (from gymnasium[accept-rom-license,box2d,classic_control]==0.29.1) (2.6.1)\n",
      "Requirement already satisfied: box2d-py==2.3.5 in c:\\programdata\\anaconda3\\envs\\tf\\lib\\site-packages (from gymnasium[accept-rom-license,box2d,classic_control]==0.29.1) (2.3.5)\n",
      "Requirement already satisfied: swig==4.* in c:\\programdata\\anaconda3\\envs\\tf\\lib\\site-packages (from gymnasium[accept-rom-license,box2d,classic_control]==0.29.1) (4.3.0)\n",
      "Requirement already satisfied: autorom~=0.4.2 in c:\\programdata\\anaconda3\\envs\\tf\\lib\\site-packages (from autorom[accept-rom-license]~=0.4.2; extra == \"accept-rom-license\"->gymnasium[accept-rom-license,box2d,classic_control]==0.29.1) (0.4.2)\n",
      "Requirement already satisfied: click in c:\\programdata\\anaconda3\\envs\\tf\\lib\\site-packages (from autorom~=0.4.2->autorom[accept-rom-license]~=0.4.2; extra == \"accept-rom-license\"->gymnasium[accept-rom-license,box2d,classic_control]==0.29.1) (8.1.7)\n",
      "Requirement already satisfied: requests in c:\\programdata\\anaconda3\\envs\\tf\\lib\\site-packages (from autorom~=0.4.2->autorom[accept-rom-license]~=0.4.2; extra == \"accept-rom-license\"->gymnasium[accept-rom-license,box2d,classic_control]==0.29.1) (2.32.3)\n",
      "Requirement already satisfied: tqdm in c:\\programdata\\anaconda3\\envs\\tf\\lib\\site-packages (from autorom~=0.4.2->autorom[accept-rom-license]~=0.4.2; extra == \"accept-rom-license\"->gymnasium[accept-rom-license,box2d,classic_control]==0.29.1) (4.67.1)\n",
      "Requirement already satisfied: AutoROM.accept-rom-license in c:\\programdata\\anaconda3\\envs\\tf\\lib\\site-packages (from autorom[accept-rom-license]~=0.4.2; extra == \"accept-rom-license\"->gymnasium[accept-rom-license,box2d,classic_control]==0.29.1) (0.6.1)\n",
      "Requirement already satisfied: zipp>=3.20 in c:\\programdata\\anaconda3\\envs\\tf\\lib\\site-packages (from importlib-metadata>=4.8.0->gymnasium==0.29.1->gymnasium[accept-rom-license,box2d,classic_control]==0.29.1) (3.21.0)\n",
      "Requirement already satisfied: colorama in c:\\programdata\\anaconda3\\envs\\tf\\lib\\site-packages (from click->autorom~=0.4.2->autorom[accept-rom-license]~=0.4.2; extra == \"accept-rom-license\"->gymnasium[accept-rom-license,box2d,classic_control]==0.29.1) (0.4.6)\n",
      "Requirement already satisfied: charset-normalizer<4,>=2 in c:\\programdata\\anaconda3\\envs\\tf\\lib\\site-packages (from requests->autorom~=0.4.2->autorom[accept-rom-license]~=0.4.2; extra == \"accept-rom-license\"->gymnasium[accept-rom-license,box2d,classic_control]==0.29.1) (3.3.2)\n",
      "Requirement already satisfied: idna<4,>=2.5 in c:\\programdata\\anaconda3\\envs\\tf\\lib\\site-packages (from requests->autorom~=0.4.2->autorom[accept-rom-license]~=0.4.2; extra == \"accept-rom-license\"->gymnasium[accept-rom-license,box2d,classic_control]==0.29.1) (3.10)\n",
      "Requirement already satisfied: urllib3<3,>=1.21.1 in c:\\programdata\\anaconda3\\envs\\tf\\lib\\site-packages (from requests->autorom~=0.4.2->autorom[accept-rom-license]~=0.4.2; extra == \"accept-rom-license\"->gymnasium[accept-rom-license,box2d,classic_control]==0.29.1) (2.2.3)\n",
      "Requirement already satisfied: certifi>=2017.4.17 in c:\\programdata\\anaconda3\\envs\\tf\\lib\\site-packages (from requests->autorom~=0.4.2->autorom[accept-rom-license]~=0.4.2; extra == \"accept-rom-license\"->gymnasium[accept-rom-license,box2d,classic_control]==0.29.1) (2024.8.30)\n"
     ]
    }
   ],
   "source": [
    "if \"google.colab\" in sys.modules or \"kaggle_secrets\" in sys.modules:\n",
    "    %pip install -q -U gymnasium swig\n",
    "    %pip install gymnasium[atari]==0.29.1\n",
    "    %pip install gymnasium[classic_control,box2d,accept-rom-license,ActionWrapper]==0.29.1\n",
    "else:\n",
    "    !pip install -q -U gymnasium swig\n",
    "    !pip install gymnasium[atari]==0.29.1\n",
    "    !pip install gymnasium[classic_control,box2d,accept-rom-license]==0.29.1"
   ]
  },
  {
   "cell_type": "code",
   "execution_count": null,
   "metadata": {
    "colab": {
     "base_uri": "https://localhost:8080/"
    },
    "id": "Dp-Ed6CtGbTK",
    "outputId": "eb20a6b3-41be-4d76-9c23-afc0236d9b19"
   },
   "outputs": [
    {
     "data": {
      "text/plain": [
       "['ALE/Adventure-ram-v5',\n",
       " 'ALE/Adventure-v5',\n",
       " 'ALE/AirRaid-ram-v5',\n",
       " 'ALE/AirRaid-v5',\n",
       " 'ALE/Alien-ram-v5',\n",
       " '...']"
      ]
     },
     "execution_count": 4,
     "metadata": {},
     "output_type": "execute_result"
    }
   ],
   "source": [
    "# Verify installation\n",
    "import gymnasium as gym\n",
    "sorted(gym.envs.registry.keys())[:5] + [\"...\"]"
   ]
  },
  {
   "cell_type": "markdown",
   "metadata": {
    "id": "IhNUrdEcZ6i5"
   },
   "source": [
    "### 2.2 The Game - Demon Attack\n",
    "We will apply DQN learning to Demon Attack. We will be using the Deterministic version which is deterministically skips every 4th frame. Rather than using the standard version, where the frame skipping is inconsistent. This should make learning a bit more reliable with the removal of the random event.  \n",
    "We chose the RGB version over the RAM version because we thought it better represented how a human would learn to play the game and a human wouldn't have access to the exact RAM information and instead uses visual cues to determine what actions to take, which is how we want our agent to learn.  \n",
    "#### About the environment\n",
    "The environment consists of tuple of two objects:\n",
    "- The state observation\n",
    "- Info object\n",
    "#### The state\n",
    "The state is a 2D array of the 3 pixel channel arrays: list([R, G, B], ...)  \n",
    "Each pixel has a value from 0 - 255 representing the intensity of the colour. The resolution is 210 x 160.\n",
    "#### Info dictionary\n",
    "The info dictionary contains 4 elements, the lives counter, episode_frame_number, frame_number, seeds. We will be extracting the lives value to punish the agent for losing a life/losing the game. [2]"
   ]
  },
  {
   "cell_type": "code",
   "execution_count": null,
   "metadata": {
    "colab": {
     "base_uri": "https://localhost:8080/"
    },
    "id": "edxbRXhRGeYw",
    "outputId": "71d9b5d7-652c-43a1-e774-1722c2c3a799"
   },
   "outputs": [
    {
     "data": {
      "text/plain": [
       "(array([[[  0,   0,   0],\n",
       "         [  0,   0,   0],\n",
       "         [  0,   0,   0],\n",
       "         ...,\n",
       "         [  0,   0,   0],\n",
       "         [  0,   0,   0],\n",
       "         [  0,   0,   0]],\n",
       " \n",
       "        [[  0,   0,   0],\n",
       "         [  0,   0,   0],\n",
       "         [  0,   0,   0],\n",
       "         ...,\n",
       "         [  0,   0,   0],\n",
       "         [  0,   0,   0],\n",
       "         [  0,   0,   0]],\n",
       " \n",
       "        [[  0,   0,   0],\n",
       "         [  0,   0,   0],\n",
       "         [  0,   0,   0],\n",
       "         ...,\n",
       "         [  0,   0,   0],\n",
       "         [  0,   0,   0],\n",
       "         [  0,   0,   0]],\n",
       " \n",
       "        ...,\n",
       " \n",
       "        [[  0,   0, 148],\n",
       "         [  0,   0, 148],\n",
       "         [  0,   0, 148],\n",
       "         ...,\n",
       "         [  0,   0, 148],\n",
       "         [  0,   0, 148],\n",
       "         [  0,   0, 148]],\n",
       " \n",
       "        [[  0,   0, 148],\n",
       "         [  0,   0, 148],\n",
       "         [  0,   0, 148],\n",
       "         ...,\n",
       "         [  0,   0, 148],\n",
       "         [  0,   0, 148],\n",
       "         [  0,   0, 148]],\n",
       " \n",
       "        [[  0,   0, 148],\n",
       "         [  0,   0, 148],\n",
       "         [  0,   0, 148],\n",
       "         ...,\n",
       "         [  0,   0, 148],\n",
       "         [  0,   0, 148],\n",
       "         [  0,   0, 148]]], dtype=uint8),\n",
       " {'lives': 1,\n",
       "  'episode_frame_number': 0,\n",
       "  'frame_number': 0,\n",
       "  'seeds': (3444837047, 2669555309)})"
      ]
     },
     "execution_count": 6,
     "metadata": {},
     "output_type": "execute_result"
    }
   ],
   "source": [
    "env = gym.make('DemonAttackDeterministic-v4', render_mode=\"rgb_array\")\n",
    "obs = env.reset(seed=SEED)\n",
    "obs"
   ]
  },
  {
   "cell_type": "code",
   "execution_count": null,
   "metadata": {
    "colab": {
     "base_uri": "https://localhost:8080/"
    },
    "id": "opx-CCmCG10C",
    "outputId": "9c68b14e-088b-4d51-cae5-93a82dd24959"
   },
   "outputs": [
    {
     "name": "stderr",
     "output_type": "stream",
     "text": [
      "C:\\ProgramData\\anaconda3\\envs\\tf\\lib\\site-packages\\gymnasium\\utils\\passive_env_checker.py:335: UserWarning: \u001B[33mWARN: No render fps was declared in the environment (env.metadata['render_fps'] is None or not defined), rendering may occur at inconsistent fps.\u001B[0m\n",
      "  logger.warn(\n"
     ]
    },
    {
     "data": {
      "text/plain": [
       "(210, 160, 3)"
      ]
     },
     "execution_count": 7,
     "metadata": {},
     "output_type": "execute_result"
    }
   ],
   "source": [
    "img = env.render()\n",
    "img.shape"
   ]
  },
  {
   "metadata": {
    "id": "I6yRK1aCqvAR"
   },
   "cell_type": "markdown",
   "source": [
    "### 2.3 Evaluation of the frame\n",
    "The frames are rendered in 210 by 160 pixels, through 3 channels (RGB).\n",
    "\n",
    "The game consists of a platform represented by the blue rectangle on the bottom.\n",
    "The agent is the purple ship on the bottom. It can move left and right, and fire a bullet, represented by the purple vertical line in the picture.\n",
    "The enemies can spawn in at random points and fly around. Each demon will shoot bullets that will kill the player upon hitting the player. There are three main types of demons.\n",
    "- Demons: These demons fly around, shoot bullets and die upon being shot.\n",
    "- Split Demons: Similar to regular demons however they split into two demons after being shot, one of the split demons will continue to shoot down at the player.\n",
    "- Diving Demons: These demons will float down towards the player and will kill the player upon impact.\n",
    "\n",
    "The player can shoot purple bullets that move upwards and kill demons upon impact. [3]"
   ]
  },
  {
   "cell_type": "code",
   "execution_count": null,
   "metadata": {
    "colab": {
     "base_uri": "https://localhost:8080/",
     "height": 345
    },
    "id": "BhkqyIlLG4HS",
    "outputId": "fcbc865e-09b7-4827-ab1f-a6d6171949df"
   },
   "outputs": [
    {
     "data": {
      "image/png": "[encoded data removed]",
      "text/plain": [
       "<Figure size 500x400 with 1 Axes>"
      ]
     },
     "metadata": {},
     "output_type": "display_data"
    }
   ],
   "source": [
    "import matplotlib.pyplot as plt\n",
    "\n",
    "def plot_environment(env, figsize=(5, 4)):\n",
    "  plt.figure(figsize=figsize)\n",
    "  img = env.render()\n",
    "  plt.imshow(img)\n",
    "  plt.axis(\"off\")\n",
    "  return img\n",
    "\n",
    "plot_environment(env)\n",
    "plt.show()"
   ]
  },
  {
   "metadata": {
    "id": "dMUKQ1W-qvAU"
   },
   "cell_type": "markdown",
   "source": [
    "### 2.4 The inputs\n",
    "There are 6 inputs in the game, can as shown by the first number in the cell below.  \n",
    "The 6 actions maps from 0 to 5 with the moves: Noop, Fire, Right, Left, Right and Fire, Left and fire respectively. [2]\n",
    "\n",
    "![image.png](data:image/png;base64,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)  \n",
    "<i>Image source: https://gymnasium.farama.org/v0.28.1/environments/atari/demon_attack/ </i>"
   ]
  },
  {
   "cell_type": "code",
   "execution_count": null,
   "metadata": {
    "colab": {
     "base_uri": "https://localhost:8080/"
    },
    "id": "AneqSz7GG4-S",
    "outputId": "d0d34238-10fb-452b-d1df-a120775d19ed"
   },
   "outputs": [
    {
     "name": "stdout",
     "output_type": "stream",
     "text": [
      "6\n",
      "(210, 160, 3)\n"
     ]
    }
   ],
   "source": [
    "n_actions = env.action_space.n\n",
    "input_shape = env.observation_space.shape\n",
    "\n",
    "print(n_actions)\n",
    "print(input_shape)"
   ]
  },
  {
   "cell_type": "markdown",
   "metadata": {
    "id": "XAd3Ya18duGa"
   },
   "source": [
    "source: https://atariage.com/manual_html_page.php?SoftwareLabelID=588"
   ]
  },
  {
   "cell_type": "markdown",
   "metadata": {
    "id": "8yIxzRZ2ds3q"
   },
   "source": [
    "![image.png](data:image/png;base64,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)"
   ]
  },
  {
   "metadata": {},
   "cell_type": "markdown",
   "source": [
    "## 3. Implementation\n",
    "Here we will discuss the following:\n",
    "- Architecture\n",
    "- Preprocessing\n",
    "- Exploration vs Exploitation\n",
    "- Fixed agent Q-learning\n",
    "- Update strategy and error calculation"
   ]
  },
  {
   "metadata": {},
   "cell_type": "markdown",
   "source": [
    "### 3.1 Architecture\n",
    "We have a convolutional neural network (CNN) followed by a fully connected layers. See the function <b><i>build_model</b></i>.\n",
    "\n",
    "The architecture is the following: \n",
    "- The input is going to be a stack of 4 frames (84x84x4), each frame preprocessed to be a greyscale square frame (1 colour channel with resolution 84x84). Followed by batch normalisation.\n",
    "- Convolutional layer with 32 filters, kernel size of 2x2, stride of 2, and ReLU activation. Followed by batch normalisation.\n",
    "- Convolutional layer with 64 filters, kernel size of 3x3, stride of 1, and ReLU activation. Followed by batch normalisation.\n",
    "- A flattening layer before the first fully-connected layer with 32 units and ReLU activation.\n",
    "- A final fully-connected layer with 6 units (the number of actions in the environment) and linear activation.\n",
    "\n",
    "Other architectures we tried included convolutional layers such as: \n",
    "- 32 filter, kernel size of 8x8, stride of 4, and ReLU activation\n",
    "- 64 filter, kernel size of 4x4, stride of 2, and ReLU activation\n",
    "- 64 filter, kernel size of 3x3, stride of 1, and ReLU activation\n",
    "\n",
    "We ended up keeping the architecture simple and opting for smaller kernels for our convolutional layers as we want to be able to extract relevant features from the screen effectively and such features such as player/enemy bullets can be very small.  \n",
    "Batch normalisation is used directly after the input layer hence no normalisation of this layer is carried out beforehand."
   ]
  },
  {
   "metadata": {},
   "cell_type": "markdown",
   "source": [
    "### 3.2 Preprocessing\n",
    "We wanted to reduce the complexity of the input as the initial dimensions are large (210x160x3). See the function <i><b>preprocess_state</b></i>.\n",
    "\n",
    "First we change all frames to have 1 channel by converting them to be grayscale. We do this as we don't see much added value in the colour to justify the extra processing required. The main thing is for the model to learn enemies, the player and the bullets they shoot, and this is better determined by their location on the screen, their shape, and in the case of the bullets, the direction they move in.\n",
    "\n",
    "We also simplified the resolution down to a square 84x84 image using the nearest neighbour method. The final image is a 84x84 square. This allows us to lower the dimensions while retaining the relevant features the model will need to learn.\n",
    "\n",
    "Below is an example of an original frame and a preprocessed frame resized to 84x84 using the nearest neighbour method (and in grayscale).  \n",
    "![image.png](data:image/jpeg;base64,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)"
   ]
  },
  {
   "metadata": {},
   "cell_type": "markdown",
   "source": [
    "### 3.3 Exploration Vs Exploitation\n",
    "For any agent to learn optimal play it first needs to explore possible strategies by taking random moves and observing the reward that gives. From this exploration the agent learns what moves give the most reward and in turn, will learn to play effectively to maximise reward (exploitation).\n",
    "\n",
    "We had the strike a balance between exploration and exploitation so that we could try various ways to help our model train while also being able to examine how it performs by having it perform exploitative moves.\n",
    "\n",
    "We chose an initial epsilon of 1 to facilitate exploration and a decay rate of 0.99 so that it would decay by 1% each episode. After 100 episodes you would end up with an epsilon of about 0.36. We often ran our model for 50 episodes, and after 35 episodes, drastically lower the epsilon to about 0.4 to examine how the agent performs when exploitative moves are more frequent than exploratory moves. This allowed us to run experiments without it taking a prohibitively long time to see results of those experiments.\n",
    "\n",
    "Exploitative moves are chosen by taking the move that is most likely to give the most reward according to what the model has learned.  \n",
    "Exploratory moves are chosen at random."
   ]
  },
  {
   "metadata": {},
   "cell_type": "markdown",
   "source": [
    "### 3.4 Fixed Agent Q-Learning\n",
    "We are using a fixed agent Q-learning approach to minimize the catastrophic forgetting. Fixed Q-Learning consists of using two models, an online agent and a fixed agent.\n",
    "The online model continuously plays and updates its weights from the Q-learning. The fixed agent makes the decision for the online agent, and the fixed agent copies the online agent's weights every N number of episodes. We went with N=10, meaning every 10th episode we update the fixed agent's weights. \n",
    "\n",
    "This should prevent the agent from catastrophic forgetting, and make it more stable. \n",
    "\n",
    "The modifications to the code to include fixed Q-learning are:\n",
    "- Line 44-45 Constructor: Added fixed agent and copied the starting weights \n",
    "- Line 81 choose_action: "
   ]
  },
  {
   "metadata": {},
   "cell_type": "markdown",
   "source": [
    "### 3.5 Update Strategy and Error Calculation\n",
    "The update occurs in the replay function.\n",
    "```python  \n",
    "def replay(self):\n",
    "    minibatch, indices = self.sample_from_memory() # Get experiences from memory\n",
    "    if not minibatch:\n",
    "        # If there is not enough experiences in memory, return\n",
    "        return\n",
    "\n",
    "    states = []\n",
    "    targets = []\n",
    "\n",
    "    for _, state, action, reward, next_state, done in minibatch:\n",
    "        state_input = tf.expand_dims(state, axis=0)\n",
    "        next_state_input = tf.expand_dims(next_state, axis=0)\n",
    "        q_values = self.model.predict(state_input, verbose=0)\n",
    "\n",
    "        if done:\n",
    "            # If the episode is done, award the final reward\n",
    "            q_values[0][action] = reward\n",
    "        else:\n",
    "            # Else, calculate the Q-value for the next using the Bellman equation \n",
    "            q_values_next = self.model.predict(next_state_input, verbose=0)\n",
    "            q_values[0][action] = reward + self.gamma * np.max(q_values_next[0])\n",
    "\n",
    "        # Add the state and target to the lists\n",
    "        states.append(state)\n",
    "        targets.append(q_values[0])\n",
    "\n",
    "    # Fit the model with the states\n",
    "    self.model.fit(np.array(states), np.array(targets), batch_size=self.batch_size, verbose=0)\n",
    "    self.update_priorities(minibatch, indices) # Update the priorities\n",
    "\n",
    "def sample_from_memory(self):\n",
    "    if len(self.memory) < self.batch_size:\n",
    "        return []\n",
    "    priorities = np.array([exp[0] for exp in self.memory])\n",
    "    probabilities = priorities / (np.sum(priorities) + 1e-8)\n",
    "    probabilities = np.clip(probabilities, 0, 1)\n",
    "    probabilities /= np.sum(probabilities)  # Re-normalize after clipping\n",
    "\n",
    "    indices = np.random.choice(len(self.memory), self.batch_size, p=probabilities)\n",
    "    experiences = [self.memory[i] for i in indices]\n",
    "    return experiences, indices\n",
    "```\n",
    "\n",
    "> Q(s,a)=r+γ⋅max(Q(s′,a′))"
   ]
  },
  {
   "cell_type": "code",
   "execution_count": null,
   "metadata": {
    "colab": {
     "base_uri": "https://localhost:8080/"
    },
    "id": "HFj4nFk1YfF4",
    "outputId": "9d875d30-c743-4833-a153-00f152c0cad5"
   },
   "outputs": [
    {
     "name": "stdout",
     "output_type": "stream",
     "text": [
      "self.env.observation_space = Box(0, 255, (210, 160, 3), uint8)\n",
      "input_size = (84, 84, 1)\n",
      "action_size = 6\n"
     ]
    }
   ],
   "source": [
    "# Imports\n",
    "import numpy as np\n",
    "import random\n",
    "from collections import deque\n",
    "from tensorflow.keras.models import Sequential\n",
    "from tensorflow.keras.layers import Dense, Input, BatchNormalization, Flatten, Conv2D\n",
    "from tensorflow.keras.optimizers import Adam\n",
    "\n",
    "# Set seed to replication\n",
    "SEED = 42\n",
    "random.seed(SEED)\n",
    "np.random.seed(SEED)\n",
    "tf.random.set_seed(SEED)\n",
    "\n",
    "# We are using DemonAttack Deterministic\n",
    "# This skips every fourth frame/tick\n",
    "# We are using the pixels in the environment to learn as we believe it best mimics a human learning to play\n",
    "env_string = 'DemonAttackDeterministic-v4'\n",
    "\n",
    "# DQN class\n",
    "class DQN():\n",
    "  def __init__(self,\n",
    "               env_string,\n",
    "               batch_size=64):\n",
    "    self.memory = deque(maxlen=100_000)\n",
    "    self.env = gym.make(env_string)\n",
    "\n",
    "    # Stacked frames => input shape with 4 frames in the depth dimension\n",
    "    input_size = (84, 84, 4)\n",
    "    action_size = self.env.action_space.n # The 6 operations the player can execute each frame\n",
    "\n",
    "    print(f'self.env.observation_space = {self.env.observation_space}')\n",
    "    print(f'input_size = {input_size}')\n",
    "    print(f'action_size = {action_size}')\n",
    "\n",
    "    self.batch_size = batch_size\n",
    "    self.gamma = 0.99\n",
    "    self.epsilon = 1.0 # Chance of choosing an exploratory move\n",
    "    self.epsilon_min = 0.01 # The minimum epsilon value. However, we did not run our agents for enough episodes to reach this value\n",
    "    self.epsilon_decay = 0.99 # Proportion of epsilon to use each subsequent episode\n",
    "    alpha=0.01 # Learning rate\n",
    "\n",
    "    self.build_model(input_size, action_size, alpha)\n",
    "    self.fixed_agent = tf.keras.models.clone_model(self.model)\n",
    "    self.fixed_agent.set_weights(self.model.get_weights())\n",
    "\n",
    "  def build_model(self, input_shape, n_actions, alpha):\n",
    "    # Initialise the model\n",
    "    self.model = Sequential()\n",
    "    # Add the input layer (84x84x4)\n",
    "    self.model.add(Input(shape=input_shape))\n",
    "    # Normalise the input\n",
    "    self.model.add(BatchNormalization())\n",
    "    # Convolutional layers. Small kernel to help detect small features. Stride two halves the resolution.\n",
    "    self.model.add(Conv2D(32, (2, 2), strides=2, activation='relu'))\n",
    "    self.model.add(BatchNormalization())\n",
    "    # A slightly larger kernel, and stride 1 to retain the same resolution.\n",
    "    self.model.add(Conv2D(64, (3, 3), strides=1, activation='relu'))\n",
    "    self.model.add(BatchNormalization())\n",
    "\n",
    "    # Fully connected layers\n",
    "    self.model.add(Flatten())\n",
    "    self.model.add(Dense(32, activation='relu'))\n",
    "    # Six units to represent each action the player can execute\n",
    "    self.model.add(Dense(n_actions, activation='linear'))\n",
    "\n",
    "    # Compile the model and specify the loss function, optimiser, and learning rate\n",
    "    self.model.compile(loss = 'mse', optimizer=Adam(learning_rate = alpha))\n",
    "\n",
    "  # Add the step to memory\n",
    "  def remember(self, state, action, reward, next_state, done):\n",
    "    self.memory.append((state, action, reward, next_state, done))\n",
    "\n",
    "  # Epsilon greedy strategy\n",
    "  def choose_action(self, state):\n",
    "    if np.random.random() <= self.epsilon:\n",
    "      # Randomly choose a random (exploratory) move based on epsilon\n",
    "      # Epsilon is the chance of choosing an exploratory move\n",
    "      return self.env.action_space.sample()\n",
    "    else:\n",
    "      # Otherwise choose an exploitative move\n",
    "      # From our model's predictions we choose what it thinks is most likely to be the optimal move\n",
    "      # The fixed agent is going to make the decision for our online agent\n",
    "      return np.argmax(self.fixed_agent.predict(state, verbose=0)) \n",
    "\n",
    "  # Preprocessing the state to reduce computation as we are using the resolution of the game (210x160x3)\n",
    "  def preprocess_state(self, state):\n",
    "      if len(state) == 2:\n",
    "        img = state[0]\n",
    "      else:\n",
    "        img = state\n",
    "      # Reduce the number of channels from 3 to 1 as colour is unlikely to have a big effect on performance\n",
    "      img = tf.image.rgb_to_grayscale(img)\n",
    "      # Scaling down the image to a more manageable size\n",
    "      img = tf.image.resize([img], [84, 84], method=tf.image.ResizeMethod.NEAREST_NEIGHBOR)\n",
    "      img = tf.cast(img, tf.float32)\n",
    "      return img\n",
    "\n",
    "  def replay(self, batch_size):\n",
    "    if len(self.memory) < batch_size:\n",
    "      return\n",
    "\n",
    "    x_batch, y_batch = [], []\n",
    "    minibatch = random.sample(self.memory, min(len(self.memory), batch_size))\n",
    "    for state, action, reward, next_state, done in minibatch:\n",
    "      y_target = self.model.predict(state, verbose=0)\n",
    "      y_target[0][action] = reward if done else reward + self.gamma * np.max(self.model.predict(next_state, verbose=0)[0])\n",
    "      x_batch.append(state[0])\n",
    "      y_batch.append(y_target[0])\n",
    "\n",
    "    self.model.fit(np.array(x_batch), np.array(y_batch), batch_size=len(x_batch), verbose=0)\n",
    "\n",
    "  def train(self, epochs = 50):\n",
    "    scores = deque(maxlen=100)\n",
    "    avg_scores = []\n",
    "    self.scores = []\n",
    "    self.decays = []\n",
    "    frame_cap = 2_000\n",
    "    for episode in range(epochs):\n",
    "      state, info = self.env.reset()\n",
    "      self.lives_remaining = info.get('lives', 1)\n",
    "\n",
    "      state = self.preprocess_state(state)\n",
    "      done = False\n",
    "      # Score is no. of ticks survived\n",
    "      score = 0\n",
    "      frame_count = 0\n",
    "      while not done:\n",
    "        action = self.choose_action(state)\n",
    "        next_state, reward, done, _, info = self.env.step(action)\n",
    "        next_state = self.preprocess_state(next_state)\n",
    "\n",
    "        # Punish agent for losing a life\n",
    "        current_lives = info.get('lives')\n",
    "        if current_lives < self.lives_remaining:\n",
    "            print(\"Life lost\")\n",
    "            reward -= 500\n",
    "            self.lives_remaining = current_lives\n",
    "\n",
    "        self.remember(state, action, reward, next_state, done)\n",
    "        state = next_state\n",
    "        score += reward\n",
    "\n",
    "        frame_count += 1\n",
    "\n",
    "        if frame_count >= frame_cap:\n",
    "          print(f\"Frame cap has been reached: {frame_cap} frames for episode {episode + 1}\")\n",
    "          break\n",
    "\n",
    "      scores.append(score)\n",
    "      self.scores.append(score)\n",
    "      mean_score = np.mean(scores)\n",
    "      avg_scores.append(mean_score)\n",
    "      self.decays.append(self.epsilon)\n",
    "      print(f'Episode {episode+1}/{epochs} complete, score: {score}, epsilon: {np.round(self.epsilon, 4)}')\n",
    "      if (episode+1) % 20 == 0:\n",
    "        print(f'[Episode {episode+1}] - Mean survival time over last 20 episodes was {mean_score} ticks.')\n",
    "\n",
    "      if ((episode + 1) % 10) == 0:\n",
    "        print(f'Updating target Agent for epside {episode + 1} onwards')\n",
    "        self.fixed_agent.set_weights(self.model.get_weights())\n",
    "\n",
    "      if (episode) == 35:\n",
    "        self.epsilon = 0.40\n",
    "\n",
    "      self.replay(self.batch_size)\n",
    "      # Decrease epsilon after each episode to gradually shift from random to learned actions\n",
    "      self.epsilon = max(self.epsilon_min, self.epsilon_decay*self.epsilon)\n",
    "\n",
    "    return avg_scores\n",
    "\n",
    "\n",
    "agent = DQN(env_string)\n",
    "\n",
    "# agent.model.summary()"
   ]
  },
  {
   "cell_type": "code",
   "execution_count": null,
   "metadata": {
    "colab": {
     "base_uri": "https://localhost:8080/"
    },
    "id": "Kf9Y7UkIYfF6",
    "outputId": "c2ec4c05-994e-4faf-b396-37c2dd4453b3"
   },
   "outputs": [
    {
     "name": "stdout",
     "output_type": "stream",
     "text": [
      "Life lost\n",
      "Episode 1/50 complete, score: -400.0, epsilon: 1.0\n",
      "Life lost\n",
      "Episode 2/50 complete, score: -325.0, epsilon: 0.99\n",
      "Life lost\n",
      "Episode 3/50 complete, score: -430.0, epsilon: 0.9801\n",
      "Frame cap has been reached: 2000 frames for episode 4\n",
      "Episode 4/50 complete, score: 150.0, epsilon: 0.9703\n",
      "Life lost\n",
      "Episode 5/50 complete, score: -360.0, epsilon: 0.9606\n",
      "Life lost\n",
      "Episode 6/50 complete, score: -370.0, epsilon: 0.951\n",
      "Life lost\n",
      "Episode 7/50 complete, score: -145.0, epsilon: 0.9415\n",
      "Frame cap has been reached: 2000 frames for episode 8\n",
      "Episode 8/50 complete, score: 370.0, epsilon: 0.9321\n",
      "Life lost\n",
      "Episode 9/50 complete, score: -235.0, epsilon: 0.9227\n",
      "Life lost\n",
      "Episode 10/50 complete, score: -360.0, epsilon: 0.9135\n",
      "Updating target Agent for epside 10 onwards\n",
      "Life lost\n",
      "Episode 11/50 complete, score: -280.0, epsilon: 0.9044\n",
      "Life lost\n",
      "Episode 12/50 complete, score: -175.0, epsilon: 0.8953\n",
      "Life lost\n",
      "Episode 13/50 complete, score: -380.0, epsilon: 0.8864\n",
      "Life lost\n",
      "Episode 14/50 complete, score: -250.0, epsilon: 0.8775\n",
      "Life lost\n",
      "Episode 15/50 complete, score: -265.0, epsilon: 0.8687\n",
      "Life lost\n",
      "Episode 16/50 complete, score: -310.0, epsilon: 0.8601\n",
      "Life lost\n",
      "Episode 17/50 complete, score: -350.0, epsilon: 0.8515\n",
      "Life lost\n",
      "Episode 18/50 complete, score: -430.0, epsilon: 0.8429\n",
      "Life lost\n",
      "Episode 19/50 complete, score: -340.0, epsilon: 0.8345\n",
      "Life lost\n",
      "Episode 20/50 complete, score: -265.0, epsilon: 0.8262\n",
      "[Episode 20] - Mean survival time over last 20 episodes was -257.5 ticks.\n",
      "Updating target Agent for epside 20 onwards\n",
      "Frame cap has been reached: 2000 frames for episode 21\n",
      "Episode 21/50 complete, score: 70.0, epsilon: 0.8179\n",
      "Life lost\n",
      "Episode 22/50 complete, score: -460.0, epsilon: 0.8097\n",
      "Frame cap has been reached: 2000 frames for episode 23\n",
      "Episode 23/50 complete, score: 60.0, epsilon: 0.8016\n",
      "Frame cap has been reached: 2000 frames for episode 24\n",
      "Episode 24/50 complete, score: 150.0, epsilon: 0.7936\n",
      "Frame cap has been reached: 2000 frames for episode 25\n",
      "Episode 25/50 complete, score: 60.0, epsilon: 0.7857\n",
      "Frame cap has been reached: 2000 frames for episode 26\n",
      "Episode 26/50 complete, score: 60.0, epsilon: 0.7778\n",
      "Frame cap has been reached: 2000 frames for episode 27\n",
      "Episode 27/50 complete, score: 150.0, epsilon: 0.77\n",
      "Frame cap has been reached: 2000 frames for episode 28\n",
      "Episode 28/50 complete, score: 60.0, epsilon: 0.7623\n",
      "Frame cap has been reached: 2000 frames for episode 29\n",
      "Episode 29/50 complete, score: 70.0, epsilon: 0.7547\n",
      "Frame cap has been reached: 2000 frames for episode 30\n",
      "Episode 30/50 complete, score: 70.0, epsilon: 0.7472\n",
      "Updating target Agent for epside 30 onwards\n",
      "Frame cap has been reached: 2000 frames for episode 31\n",
      "Episode 31/50 complete, score: 60.0, epsilon: 0.7397\n",
      "Frame cap has been reached: 2000 frames for episode 32\n",
      "Episode 32/50 complete, score: 70.0, epsilon: 0.7323\n",
      "Frame cap has been reached: 2000 frames for episode 33\n",
      "Episode 33/50 complete, score: 70.0, epsilon: 0.725\n",
      "Life lost\n",
      "Episode 34/50 complete, score: -420.0, epsilon: 0.7177\n",
      "Frame cap has been reached: 2000 frames for episode 35\n",
      "Episode 35/50 complete, score: 70.0, epsilon: 0.7106\n",
      "Frame cap has been reached: 2000 frames for episode 36\n",
      "Episode 36/50 complete, score: 70.0, epsilon: 0.7034\n",
      "Frame cap has been reached: 2000 frames for episode 37\n",
      "Episode 37/50 complete, score: 70.0, epsilon: 0.396\n",
      "Frame cap has been reached: 2000 frames for episode 38\n",
      "Episode 38/50 complete, score: 70.0, epsilon: 0.392\n",
      "Frame cap has been reached: 2000 frames for episode 39\n",
      "Episode 39/50 complete, score: 60.0, epsilon: 0.3881\n",
      "Frame cap has been reached: 2000 frames for episode 40\n",
      "Episode 40/50 complete, score: 60.0, epsilon: 0.3842\n",
      "[Episode 40] - Mean survival time over last 20 episodes was -117.0 ticks.\n",
      "Updating target Agent for epside 40 onwards\n",
      "Life lost\n",
      "Episode 41/50 complete, score: -480.0, epsilon: 0.3804\n",
      "Frame cap has been reached: 2000 frames for episode 42\n",
      "Episode 42/50 complete, score: 80.0, epsilon: 0.3766\n",
      "Frame cap has been reached: 2000 frames for episode 43\n",
      "Episode 43/50 complete, score: 60.0, epsilon: 0.3728\n",
      "Frame cap has been reached: 2000 frames for episode 44\n",
      "Episode 44/50 complete, score: 70.0, epsilon: 0.3691\n",
      "Life lost\n",
      "Episode 45/50 complete, score: -450.0, epsilon: 0.3654\n",
      "Frame cap has been reached: 2000 frames for episode 46\n",
      "Episode 46/50 complete, score: 60.0, epsilon: 0.3618\n",
      "Frame cap has been reached: 2000 frames for episode 47\n",
      "Episode 47/50 complete, score: 70.0, epsilon: 0.3581\n",
      "Frame cap has been reached: 2000 frames for episode 48\n",
      "Episode 48/50 complete, score: 70.0, epsilon: 0.3546\n",
      "Frame cap has been reached: 2000 frames for episode 49\n",
      "Episode 49/50 complete, score: 60.0, epsilon: 0.351\n",
      "Frame cap has been reached: 2000 frames for episode 50\n",
      "Episode 50/50 complete, score: 60.0, epsilon: 0.3475\n",
      "Updating target Agent for epside 50 onwards\n"
     ]
    }
   ],
   "source": "avg_scores = agent.train()"
  },
  {
   "metadata": {},
   "cell_type": "markdown",
   "source": "## 4. Plots"
  },
  {
   "cell_type": "code",
   "source": [
    "import numpy as np\n",
    "import matplotlib.pyplot as plt\n",
    "\n",
    "# Load scores from scores.npy\n",
    "avg_scores = np.load('scores.npy')"
   ],
   "metadata": {
    "id": "BuftwtWr_2vj",
    "ExecuteTime": {
     "end_time": "2024-12-11T11:48:01.762979Z",
     "start_time": "2024-12-11T11:48:00.863469Z"
    }
   },
   "outputs": [],
   "execution_count": 1
  },
  {
   "metadata": {
    "ExecuteTime": {
     "end_time": "2024-12-11T11:52:49.904215Z",
     "start_time": "2024-12-11T11:52:49.567261Z"
    }
   },
   "cell_type": "code",
   "source": "",
   "outputs": [
    {
     "data": {
      "text/plain": [
       "<Figure size 640x480 with 2 Axes>"
      ],
      "image/png": "[encoded data removed]"
     },
     "metadata": {},
     "output_type": "display_data"
    }
   ],
   "execution_count": 8
  },
  {
   "metadata": {},
   "cell_type": "code",
   "outputs": [],
   "execution_count": null,
   "source": [
    "agent.model.save('dqn_model.h5')\n",
    "np.save('scores.npy', scores)"
   ]
  },
  {
   "cell_type": "code",
   "execution_count": null,
   "metadata": {
    "id": "xZeSm7XIgLN4"
   },
   "outputs": [],
   "source": [
    "import matplotlib.animation\n",
    "import matplotlib.pyplot as plt\n",
    "\n",
    "plt.rc('font', size=14)\n",
    "plt.rc('axes', labelsize=14, titlesize=14)\n",
    "plt.rc('legend', fontsize=14)\n",
    "plt.rc('xtick', labelsize=10)\n",
    "plt.rc('ytick', labelsize=10)\n",
    "plt.rc('animation', html='jshtml')"
   ]
  },
  {
   "metadata": {},
   "cell_type": "markdown",
   "source": "## 5. Gameplay videos"
  },
  {
   "cell_type": "code",
   "execution_count": null,
   "metadata": {
    "id": "_d-9uTSIgLl3",
    "outputId": "6958fc52-78bf-4bd0-8519-d9d8a3b7e1ae"
   },
   "outputs": [
    {
     "name": "stderr",
     "output_type": "stream",
     "text": [
      "C:\\ProgramData\\anaconda3\\envs\\tf\\lib\\site-packages\\gymnasium\\utils\\passive_env_checker.py:335: UserWarning: \u001B[33mWARN: No render fps was declared in the environment (env.metadata['render_fps'] is None or not defined), rendering may occur at inconsistent fps.\u001B[0m\n",
      "  logger.warn(\n"
     ]
    },
    {
     "name": "stdout",
     "output_type": "stream",
     "text": [
      "Frame cap has been reached: 2000 frames for episode 1\n"
     ]
    }
   ],
   "source": [
    "# Sauce: https://colab.research.google.com/github/ageron/handson-ml3/blob/main/18_reinforcement_learning.ipynb#scrollTo=GT0x6sxhjrhf\n",
    "import matplotlib.pyplot as plt\n",
    "import matplotlib.animation as animation\n",
    "\n",
    "name_of_video = \"Demon_Attack_play_one_episode.mp4\"\n",
    "\n",
    "def update_scene(num, frames, patch):\n",
    "    patch.set_data(frames[num])\n",
    "    return patch,\n",
    "\n",
    "def plot_animation(frames, repeat=False, interval=40):\n",
    "    fig = plt.figure()\n",
    "    patch = plt.imshow(frames[0])\n",
    "    plt.axis('off')\n",
    "    anim = matplotlib.animation.FuncAnimation(\n",
    "        fig, update_scene, fargs=(frames, patch),\n",
    "        frames=len(frames), repeat=repeat, interval=interval)\n",
    "    anim.save('episode_video.mp4', writer=\"ffmpeg\", fps=15)\n",
    "    print(f\"Saved video to {name_of_video}\")\n",
    "    plt.close()\n",
    "    return anim\n",
    "\n",
    "def show_open_episode(agent, seed = 42):\n",
    "    frames = []\n",
    "    frame_cap = 10_000\n",
    "    agent.env = gym.make(\"DemonAttackDeterministic-v4\", render_mode=\"rgb_array\")\n",
    "    for episode in range(1):\n",
    "        state, info = agent.env.reset(seed=SEED)\n",
    "        agent.current_lives = info.get('info', 1)\n",
    "        state = agent.preprocess_state(state)\n",
    "        done = False\n",
    "        score = 0\n",
    "        frame_count = 0\n",
    "        while not done:\n",
    "            frame = agent.env.render()\n",
    "            frames.append(frame)\n",
    "            action = agent.choose_action(state)\n",
    "            next_state, reward, done, _, _ = agent.env.step(action)\n",
    "            next_state = agent.preprocess_state(next_state)     \n",
    "\n",
    "            agent.remember(state, action, reward, next_state, done)\n",
    "            state = next_state\n",
    "            score += reward\n",
    "\n",
    "            frame_count += 1\n",
    "\n",
    "            if frame_count >= frame_cap:\n",
    "                print(f\"Frame cap has been reached: {frame_cap} frames for episode {episode + 1}\")\n",
    "                break\n",
    "    agent.env.close()\n",
    "    return plot_animation(frames)\n",
    "\n",
    "show_open_episode(agent)"
   ]
  },
  {
   "metadata": {},
   "cell_type": "markdown",
   "source": "## 6. Evaluation of the results"
  },
  {
   "metadata": {},
   "cell_type": "markdown",
   "source": [
    "## 7. References\n",
    "[1] Hou, X., 2023, November. Exploring the Role of Reinforcement Learning in Video Game Environments. In 2023 International Conference on Image, Algorithms and Artificial Intelligence (ICIAAI 2023) (pp. 193-201). Atlantis Press.  \n",
    "[2] [Gymnasium documentation for DemonAttack](https://gymnasium.farama.org/v0.28.1/environments/atari/demon_attack/)  \n",
    "[3] [AtariAge documentation for DemonAttack](https://atariage.com/manual_html_page.php?SoftwareLabelID=135)"
   ]
  }
 ],
 "metadata": {
  "accelerator": "GPU",
  "colab": {
   "gpuType": "T4",
   "provenance": []
  },
  "kernelspec": {
   "display_name": "Python 3 (ipykernel)",
   "language": "python",
   "name": "python3"
  },
  "language_info": {
   "codemirror_mode": {
    "name": "ipython",
    "version": 3
   },
   "file_extension": ".py",
   "mimetype": "text/x-python",
   "name": "python",
   "nbconvert_exporter": "python",
   "pygments_lexer": "ipython3",
   "version": "3.9.20"
  }
 },
 "nbformat": 4,
 "nbformat_minor": 0
}
